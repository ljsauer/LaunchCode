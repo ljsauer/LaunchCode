{
 "cells": [
  {
   "cell_type": "code",
   "execution_count": 1,
   "metadata": {},
   "outputs": [
    {
     "name": "stdin",
     "output_type": "stream",
     "text": [
      "Enter a comma-separated list:  [1,2,3]\n"
     ]
    },
    {
     "name": "stdout",
     "output_type": "stream",
     "text": [
      "[3. 2. 1.]\n"
     ]
    }
   ],
   "source": [
    "\"\"\"\n",
    "https://www.hackerrank.com/challenges/np-arrays/problem\n",
    "\n",
    "* Given a comma-separated list of numbers, print a reversed NumPy array\n",
    "  with the element type 'float'\n",
    "\"\"\"\n",
    "import numpy as np\n",
    "\n",
    "def arrays(arr):\n",
    "    arr_rev = arr[::-1]\n",
    "    arr_new = np.array(arr_rev, float)\n",
    "    return arr_new\n",
    "\n",
    "arr = input(\"Enter a comma-separated list: \").strip('[]').split(',')\n",
    "result = arrays(arr)\n",
    "print(result)"
   ]
  },
  {
   "cell_type": "code",
   "execution_count": 17,
   "metadata": {},
   "outputs": [
    {
     "name": "stdin",
     "output_type": "stream",
     "text": [
      "Enter an array shape:  2 3 2\n"
     ]
    },
    {
     "name": "stdout",
     "output_type": "stream",
     "text": [
      "[[[0 0]\n",
      "  [0 0]\n",
      "  [0 0]]\n",
      "\n",
      " [[0 0]\n",
      "  [0 0]\n",
      "  [0 0]]]\n",
      "[[[1 1]\n",
      "  [1 1]\n",
      "  [1 1]]\n",
      "\n",
      " [[1 1]\n",
      "  [1 1]\n",
      "  [1 1]]]\n"
     ]
    }
   ],
   "source": [
    "\"\"\"\n",
    "https://www.hackerrank.com/challenges/np-zeros-and-ones/problem\n",
    "\n",
    "* Print an array of the given shape and integer type using the tools\n",
    "  'numpy.zeros' and 'numpy.ones'\n",
    "Input: a single line with space-separated integers\n",
    "Constraints:\n",
    " * 1 <= each integer <= 3\n",
    " * First, print the array using .zeros, then using .ones\n",
    "\"\"\"\n",
    "shape = input(\"Enter an array shape: \").split()\n",
    "shape = [int(char) for char in shape]\n",
    "\n",
    "zeros = np.zeros(shape, dtype=np.int)\n",
    "ones = np.ones(shape, dtype=np.int)\n",
    "                 \n",
    "print(zeros)\n",
    "print(ones)"
   ]
  },
  {
   "cell_type": "code",
   "execution_count": null,
   "metadata": {},
   "outputs": [],
   "source": []
  }
 ],
 "metadata": {
  "kernelspec": {
   "display_name": "Python 3",
   "language": "python",
   "name": "python3"
  },
  "language_info": {
   "codemirror_mode": {
    "name": "ipython",
    "version": 3
   },
   "file_extension": ".py",
   "mimetype": "text/x-python",
   "name": "python",
   "nbconvert_exporter": "python",
   "pygments_lexer": "ipython3",
   "version": "3.7.1"
  }
 },
 "nbformat": 4,
 "nbformat_minor": 2
}
