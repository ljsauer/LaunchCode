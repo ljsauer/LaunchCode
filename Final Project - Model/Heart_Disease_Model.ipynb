{
 "cells": [
  {
   "cell_type": "markdown",
   "metadata": {},
   "source": [
    "# Part two of Independent Project completed for LaunchCode's CoderGirl program for the Data Science track.\n",
    "\n",
    "## This portion of the project entails training and testing machine learning models on data from [UCI's Heart Disease dataset](https://www.kaggle.com/ronitf/heart-disease-uci/version/1#), as well as performing feature engineering and visualization of model performance metrics.\n",
    "\n",
    "## --"
   ]
  },
  {
   "cell_type": "markdown",
   "metadata": {},
   "source": [
    "# I. Load initial libraries and the dataset"
   ]
  },
  {
   "cell_type": "code",
   "execution_count": 1,
   "metadata": {},
   "outputs": [],
   "source": [
    "import pandas as pd\n",
    "import numpy as np\n",
    "import matplotlib.pyplot as plt\n",
    "import seaborn as sns\n",
    "from sklearn.model_selection import train_test_split\n",
    "from sklearn import metrics\n",
    "from statistics import mean\n",
    "%matplotlib inline\n",
    "plt.show()"
   ]
  },
  {
   "cell_type": "code",
   "execution_count": 2,
   "metadata": {},
   "outputs": [
    {
     "data": {
      "text/html": [
       "<div>\n",
       "<style scoped>\n",
       "    .dataframe tbody tr th:only-of-type {\n",
       "        vertical-align: middle;\n",
       "    }\n",
       "\n",
       "    .dataframe tbody tr th {\n",
       "        vertical-align: top;\n",
       "    }\n",
       "\n",
       "    .dataframe thead th {\n",
       "        text-align: right;\n",
       "    }\n",
       "</style>\n",
       "<table border=\"1\" class=\"dataframe\">\n",
       "  <thead>\n",
       "    <tr style=\"text-align: right;\">\n",
       "      <th></th>\n",
       "      <th>age</th>\n",
       "      <th>sex</th>\n",
       "      <th>pain_type</th>\n",
       "      <th>restingBP</th>\n",
       "      <th>chol</th>\n",
       "      <th>fasting_sugar</th>\n",
       "      <th>resting_ecg</th>\n",
       "      <th>maxHR</th>\n",
       "      <th>exercise_angina</th>\n",
       "      <th>ST_depression</th>\n",
       "      <th>ST_peak_slope</th>\n",
       "      <th>vessels_fluoro</th>\n",
       "      <th>thal_severity</th>\n",
       "      <th>heart_disease</th>\n",
       "    </tr>\n",
       "  </thead>\n",
       "  <tbody>\n",
       "    <tr>\n",
       "      <th>0</th>\n",
       "      <td>63</td>\n",
       "      <td>1</td>\n",
       "      <td>3</td>\n",
       "      <td>145</td>\n",
       "      <td>233</td>\n",
       "      <td>1</td>\n",
       "      <td>0</td>\n",
       "      <td>150</td>\n",
       "      <td>0</td>\n",
       "      <td>2.3</td>\n",
       "      <td>0</td>\n",
       "      <td>0</td>\n",
       "      <td>1</td>\n",
       "      <td>1</td>\n",
       "    </tr>\n",
       "    <tr>\n",
       "      <th>1</th>\n",
       "      <td>37</td>\n",
       "      <td>1</td>\n",
       "      <td>2</td>\n",
       "      <td>130</td>\n",
       "      <td>250</td>\n",
       "      <td>0</td>\n",
       "      <td>1</td>\n",
       "      <td>187</td>\n",
       "      <td>0</td>\n",
       "      <td>3.5</td>\n",
       "      <td>0</td>\n",
       "      <td>0</td>\n",
       "      <td>2</td>\n",
       "      <td>1</td>\n",
       "    </tr>\n",
       "    <tr>\n",
       "      <th>2</th>\n",
       "      <td>41</td>\n",
       "      <td>0</td>\n",
       "      <td>1</td>\n",
       "      <td>130</td>\n",
       "      <td>204</td>\n",
       "      <td>0</td>\n",
       "      <td>0</td>\n",
       "      <td>172</td>\n",
       "      <td>0</td>\n",
       "      <td>1.4</td>\n",
       "      <td>2</td>\n",
       "      <td>0</td>\n",
       "      <td>2</td>\n",
       "      <td>1</td>\n",
       "    </tr>\n",
       "    <tr>\n",
       "      <th>3</th>\n",
       "      <td>56</td>\n",
       "      <td>1</td>\n",
       "      <td>1</td>\n",
       "      <td>120</td>\n",
       "      <td>236</td>\n",
       "      <td>0</td>\n",
       "      <td>1</td>\n",
       "      <td>178</td>\n",
       "      <td>0</td>\n",
       "      <td>0.8</td>\n",
       "      <td>2</td>\n",
       "      <td>0</td>\n",
       "      <td>2</td>\n",
       "      <td>1</td>\n",
       "    </tr>\n",
       "    <tr>\n",
       "      <th>4</th>\n",
       "      <td>57</td>\n",
       "      <td>0</td>\n",
       "      <td>0</td>\n",
       "      <td>120</td>\n",
       "      <td>354</td>\n",
       "      <td>0</td>\n",
       "      <td>1</td>\n",
       "      <td>163</td>\n",
       "      <td>1</td>\n",
       "      <td>0.6</td>\n",
       "      <td>2</td>\n",
       "      <td>0</td>\n",
       "      <td>2</td>\n",
       "      <td>1</td>\n",
       "    </tr>\n",
       "  </tbody>\n",
       "</table>\n",
       "</div>"
      ],
      "text/plain": [
       "   age  sex  pain_type  restingBP  chol  fasting_sugar  resting_ecg  maxHR  \\\n",
       "0   63    1          3        145   233              1            0    150   \n",
       "1   37    1          2        130   250              0            1    187   \n",
       "2   41    0          1        130   204              0            0    172   \n",
       "3   56    1          1        120   236              0            1    178   \n",
       "4   57    0          0        120   354              0            1    163   \n",
       "\n",
       "   exercise_angina  ST_depression  ST_peak_slope  vessels_fluoro  \\\n",
       "0                0            2.3              0               0   \n",
       "1                0            3.5              0               0   \n",
       "2                0            1.4              2               0   \n",
       "3                0            0.8              2               0   \n",
       "4                1            0.6              2               0   \n",
       "\n",
       "   thal_severity  heart_disease  \n",
       "0              1              1  \n",
       "1              2              1  \n",
       "2              2              1  \n",
       "3              2              1  \n",
       "4              2              1  "
      ]
     },
     "execution_count": 2,
     "metadata": {},
     "output_type": "execute_result"
    }
   ],
   "source": [
    "heart = pd.read_csv('heart_new.csv', index_col=0)\n",
    "heart.drop(columns='ST_depression_bins', inplace=True)\n",
    "heart.head()"
   ]
  },
  {
   "cell_type": "markdown",
   "metadata": {},
   "source": [
    "# II: Modeling"
   ]
  },
  {
   "cell_type": "markdown",
   "metadata": {},
   "source": [
    "## K-Nearest Neighbors"
   ]
  },
  {
   "cell_type": "code",
   "execution_count": 3,
   "metadata": {},
   "outputs": [],
   "source": [
    "from sklearn.neighbors import KNeighborsClassifier\n",
    "from sklearn.preprocessing import StandardScaler\n",
    "\n",
    "X = heart.drop(columns='heart_disease')\n",
    "y = heart['heart_disease']\n",
    "\n",
    "X_train, X_test, y_train, y_test = train_test_split(X, y, random_state=1)"
   ]
  },
  {
   "cell_type": "code",
   "execution_count": 4,
   "metadata": {},
   "outputs": [
    {
     "data": {
      "image/png": "[encoded data removed]",
      "text/plain": [
       "<Figure size 432x288 with 1 Axes>"
      ]
     },
     "metadata": {
      "needs_background": "light"
     },
     "output_type": "display_data"
    }
   ],
   "source": [
    "def plot_KNN_scores(X, y):\n",
    "    \"\"\"Plots the relationship between K-values and testing accuracy\"\"\"\n",
    "    \n",
    "    k_range = range(1, 26)\n",
    "    scores = []\n",
    "        \n",
    "    for k in k_range:\n",
    "        knn = KNeighborsClassifier(n_neighbors = k)\n",
    "        knn.fit(X_train, y_train)\n",
    "        y_pred = knn.predict(X_test)\n",
    "        scores.append(knn.score(X_test, y_test))\n",
    "    \n",
    "    # Plot\n",
    "    plt.plot(k_range, scores)\n",
    "    plt.xlabel(\"Value of K\")\n",
    "    plt.ylabel(\"Testing Accuracy\")\n",
    "    plt.rcParams[\"figure.figsize\"] = [10.0, 10.0]\n",
    "\n",
    "plot_KNN_scores(X, y)"
   ]
  },
  {
   "cell_type": "markdown",
   "metadata": {},
   "source": [
    "## Decision Tree Classification & Visualization"
   ]
  },
  {
   "cell_type": "code",
   "execution_count": 5,
   "metadata": {},
   "outputs": [
    {
     "name": "stdout",
     "output_type": "stream",
     "text": [
      "Decision Tree Accuracy Score:  0.6891891891891891\n"
     ]
    }
   ],
   "source": [
    "from sklearn.tree import DecisionTreeClassifier\n",
    "\n",
    "X = heart.drop(columns='heart_disease')\n",
    "y = heart.heart_disease\n",
    "\n",
    "# Create decision tree function to get average score\n",
    "def dtree(X, y):\n",
    "    \n",
    "    X_train, X_test, y_train, y_test = train_test_split(X, y)\n",
    "    \n",
    "    dtree = DecisionTreeClassifier(random_state=0)\n",
    "    model = dtree.fit(X_train, y_train)\n",
    "    epochs = 1000\n",
    "    score = []\n",
    "    \n",
    "    while epochs > 0:\n",
    "        score.append(model.score(X_test, y_test))\n",
    "        epochs -= 1\n",
    "    \n",
    "    return mean(score)\n",
    "\n",
    "dt_score_one = dtree(X, y)\n",
    "\n",
    "print(\"Decision Tree Accuracy Score: \", dt_score_one)"
   ]
  },
  {
   "cell_type": "code",
   "execution_count": 7,
   "metadata": {},
   "outputs": [
    {
     "data": {
      "text/plain": [
       "True"
      ]
     },
     "execution_count": 7,
     "metadata": {},
     "output_type": "execute_result"
    }
   ],
   "source": [
    "# Viasualize\n",
    "import pydotplus\n",
    "from IPython.display import Image\n",
    "from sklearn import tree\n",
    "\n",
    "# Create classifier object\n",
    "dec_tree = DecisionTreeClassifier(random_state=0)\n",
    "\n",
    "# Train\n",
    "model = dec_tree.fit(X, y)\n",
    "\n",
    "# Create DOT data\n",
    "dot_data = tree.export_graphviz(dec_tree, feature_names=heart.drop(columns='heart_disease').columns.values, class_names=\"01\")\n",
    "\n",
    "# Draw graph\n",
    "graph = pydotplus.graph_from_dot_data(dot_data)\n",
    "\n",
    "# Save graph\n",
    "graph.write_png(\"decision_tree.png\")"
   ]
  },
  {
   "cell_type": "markdown",
   "metadata": {},
   "source": [
    "![Decision Tree Visualization](decision_tree.png)"
   ]
  },
  {
   "cell_type": "markdown",
   "metadata": {},
   "source": [
    "## Logistic Regression"
   ]
  },
  {
   "cell_type": "code",
   "execution_count": 8,
   "metadata": {},
   "outputs": [
    {
     "name": "stderr",
     "output_type": "stream",
     "text": [
      "C:\\Users\\lilli\\Anaconda3\\lib\\site-packages\\sklearn\\linear_model\\logistic.py:433: FutureWarning: Default solver will be changed to 'lbfgs' in 0.22. Specify a solver to silence this warning.\n",
      "  FutureWarning)\n"
     ]
    },
    {
     "name": "stdout",
     "output_type": "stream",
     "text": [
      "LogReg Accuracy Score:  0.8918918918918919\n"
     ]
    }
   ],
   "source": [
    "from sklearn.linear_model import LogisticRegression\n",
    "\n",
    "X = heart.drop(columns='heart_disease')\n",
    "y = heart.heart_disease\n",
    "\n",
    "def logreg(X, y):\n",
    "    \n",
    "    X_train, X_test, y_train, y_test = train_test_split(X, y)\n",
    "    \n",
    "    logreg = LogisticRegression()\n",
    "    model = logreg.fit(X_train, y_train)\n",
    "    epochs = 1000\n",
    "    score = []\n",
    "    \n",
    "    while epochs > 0:\n",
    "        score.append(model.score(X_test, y_test))\n",
    "        epochs -= 1\n",
    "    \n",
    "    return mean(score)\n",
    "\n",
    "lg_score_one = logreg(X, y)\n",
    "\n",
    "print(\"LogReg Accuracy Score: \", lg_score_one)"
   ]
  },
  {
   "cell_type": "code",
   "execution_count": 9,
   "metadata": {},
   "outputs": [],
   "source": [
    "# Create logistic regression function that returns an averaged prediction array\n",
    "def logreg_avg_pred(X, y):\n",
    "    \n",
    "    X_train, X_test, y_train, y_test = train_test_split(X, y, random_state=1)\n",
    "    logreg = LogisticRegression(random_state=0, multi_class=\"ovr\")\n",
    "    model = logreg.fit(X_train, y_train)\n",
    "    pred_matrix = model.predict(X_test)\n",
    "    \n",
    "    for n in range(1000):\n",
    "        X_train, X_test, y_train, y_test = train_test_split(X, y, random_state=1)\n",
    "        pred_matrix = np.vstack((pred_matrix, model.predict(X_test)))\n",
    "        \n",
    "    mean_pred = np.mean(pred_matrix, axis=0)\n",
    "    \n",
    "    return mean_pred"
   ]
  },
  {
   "cell_type": "code",
   "execution_count": 10,
   "metadata": {},
   "outputs": [
    {
     "name": "stderr",
     "output_type": "stream",
     "text": [
      "C:\\Users\\lilli\\Anaconda3\\lib\\site-packages\\sklearn\\linear_model\\logistic.py:433: FutureWarning: Default solver will be changed to 'lbfgs' in 0.22. Specify a solver to silence this warning.\n",
      "  FutureWarning)\n"
     ]
    },
    {
     "data": {
      "text/plain": [
       "Text(0.5, 69.0, 'True Label')"
      ]
     },
     "execution_count": 10,
     "metadata": {},
     "output_type": "execute_result"
    },
    {
     "data": {
      "image/png": "[encoded data removed]",
      "text/plain": [
       "<Figure size 720x720 with 1 Axes>"
      ]
     },
     "metadata": {
      "needs_background": "light"
     },
     "output_type": "display_data"
    }
   ],
   "source": [
    "from sklearn.metrics import confusion_matrix\n",
    "\n",
    "X = heart.drop(columns='heart_disease')\n",
    "y = heart.heart_disease\n",
    "\n",
    "X_train, X_test, y_train, y_test = train_test_split(X, y, random_state=1)\n",
    "\n",
    "y_pred = logreg_avg_pred(X, y)\n",
    "\n",
    "df = confusion_matrix(y_test, y_pred)\n",
    "\n",
    "sns.heatmap(df, annot=True, cbar=None, cmap=\"Blues\")\n",
    "plt.rcParams[\"figure.figsize\"] = [12.0, 10.0]\n",
    "plt.title(\"Confusion Matrix\")\n",
    "plt.ylabel(\"Predicted Label\")\n",
    "plt.xlabel(\"True Label\")"
   ]
  },
  {
   "cell_type": "code",
   "execution_count": 11,
   "metadata": {},
   "outputs": [
    {
     "data": {
      "image/png": "[encoded data removed]",
      "text/plain": [
       "<Figure size 864x720 with 1 Axes>"
      ]
     },
     "metadata": {
      "needs_background": "light"
     },
     "output_type": "display_data"
    }
   ],
   "source": [
    "# Plot ROC Curve\n",
    "from sklearn.datasets import make_classification\n",
    "from sklearn.metrics import roc_curve, roc_auc_score\n",
    "\n",
    "X_train, X_test, y_train, y_test = train_test_split(X, y, random_state=1)\n",
    "\n",
    "falsePos, truePos, threshold = roc_curve(y_test, y_pred)\n",
    "\n",
    "plt.plot(falsePos, truePos, lw=2, label='ROC curve (area = %0.2f)' % roc_auc_score(y_test, y_pred))\n",
    "plt.plot([0, 1], ls='--')\n",
    "plt.plot([0, 0], [1, 0], c=\".7\")\n",
    "plt.plot([1, 1], c=\".7\")\n",
    "plt.ylabel(\"True Positive Rate\")\n",
    "plt.xlabel(\"False Positive Rate\")\n",
    "plt.title(\"Receiver Operating Characteristic\")\n",
    "plt.legend(loc=4, bbox_to_anchor=(0.90, 0.2), fontsize=18)\n",
    "plt.rcParams[\"figure.figsize\"] = [12.0, 10.0]"
   ]
  },
  {
   "cell_type": "markdown",
   "metadata": {},
   "source": [
    "## Random Forest Classification"
   ]
  },
  {
   "cell_type": "code",
   "execution_count": 12,
   "metadata": {},
   "outputs": [
    {
     "name": "stderr",
     "output_type": "stream",
     "text": [
      "C:\\Users\\lilli\\Anaconda3\\lib\\site-packages\\sklearn\\ensemble\\forest.py:246: FutureWarning: The default value of n_estimators will change from 10 in version 0.20 to 100 in 0.22.\n",
      "  \"10 in version 0.20 to 100 in 0.22.\", FutureWarning)\n"
     ]
    },
    {
     "name": "stdout",
     "output_type": "stream",
     "text": [
      "Random Forest Accuracy Score:  0.7432432432432432\n"
     ]
    }
   ],
   "source": [
    "from sklearn.ensemble import RandomForestClassifier\n",
    "\n",
    "X = heart.drop(columns='heart_disease')\n",
    "y = heart.heart_disease\n",
    "\n",
    "def randomforest(X, y):\n",
    "    \n",
    "    X_train, X_test, y_train, y_test = train_test_split(X, y)\n",
    "    \n",
    "    randomforest = RandomForestClassifier()\n",
    "    model = randomforest.fit(X_train, y_train)\n",
    "    epochs = 1000\n",
    "    score = []\n",
    "    \n",
    "    while epochs > 0:\n",
    "        score.append(model.score(X_test, y_test))\n",
    "        epochs -= 1\n",
    "    \n",
    "    return mean(score)\n",
    "\n",
    "rf_score_one = randomforest(X, y)\n",
    "print(\"Random Forest Accuracy Score: \", rf_score_one)"
   ]
  },
  {
   "cell_type": "markdown",
   "metadata": {},
   "source": [
    "### Identifying important features of Random Forest model"
   ]
  },
  {
   "cell_type": "code",
   "execution_count": 13,
   "metadata": {},
   "outputs": [
    {
     "name": "stderr",
     "output_type": "stream",
     "text": [
      "C:\\Users\\lilli\\Anaconda3\\lib\\site-packages\\sklearn\\ensemble\\forest.py:246: FutureWarning: The default value of n_estimators will change from 10 in version 0.20 to 100 in 0.22.\n",
      "  \"10 in version 0.20 to 100 in 0.22.\", FutureWarning)\n"
     ]
    }
   ],
   "source": [
    "features=heart.columns\n",
    "X = heart.drop(columns='heart_disease')\n",
    "y = heart.heart_disease\n",
    "rfc = RandomForestClassifier()\n",
    "\n",
    "X_train, X_test, y_train, y_test = train_test_split(X, y)\n",
    "model = rfc.fit(X_train, y_train)\n",
    "\n",
    "featureMatrix = model.feature_importances_\n",
    "\n",
    "for n in range(500):\n",
    "    X_train, X_test, y_train, y_test = train_test_split(X, y)\n",
    "    model = rfc.fit(X_train, y_train)\n",
    "    featureMatrix = np.vstack((featureMatrix, model.feature_importances_))\n",
    "    \n",
    "mean_importances = np.mean(featureMatrix, axis=0)"
   ]
  },
  {
   "cell_type": "code",
   "execution_count": 14,
   "metadata": {},
   "outputs": [
    {
     "data": {
      "image/png": "[encoded data removed]",
      "text/plain": [
       "<Figure size 864x720 with 1 Axes>"
      ]
     },
     "metadata": {
      "needs_background": "light"
     },
     "output_type": "display_data"
    }
   ],
   "source": [
    "# Sort importances\n",
    "indices = np.argsort(mean_importances)\n",
    "\n",
    "# Rearrange features so they match the sorted features\n",
    "names = [heart.columns[i] for i in indices]\n",
    "\n",
    "# Plot\n",
    "plt.figure()\n",
    "plt.title(\"Avg. Feature Importances (500 epochs)\")\n",
    "plt.bar(range(len(indices)), mean_importances[indices])\n",
    "plt.xticks(range(len(indices)), [features[i] for i in indices], rotation=70)\n",
    "plt.show()\n",
    "plt.rcParams[\"figure.figsize\"] = [12.0, 10.0]"
   ]
  },
  {
   "cell_type": "markdown",
   "metadata": {},
   "source": [
    "# III. Feature Engineering"
   ]
  },
  {
   "cell_type": "markdown",
   "metadata": {},
   "source": [
    "## Create new feature based on those with higher than average maximum heart rates [(AHA)](https://www.heart.org/en/healthy-living/fitness/fitness-basics/target-heart-rates)"
   ]
  },
  {
   "cell_type": "code",
   "execution_count": 15,
   "metadata": {},
   "outputs": [
    {
     "data": {
      "text/html": [
       "<div>\n",
       "<style scoped>\n",
       "    .dataframe tbody tr th:only-of-type {\n",
       "        vertical-align: middle;\n",
       "    }\n",
       "\n",
       "    .dataframe tbody tr th {\n",
       "        vertical-align: top;\n",
       "    }\n",
       "\n",
       "    .dataframe thead th {\n",
       "        text-align: right;\n",
       "    }\n",
       "</style>\n",
       "<table border=\"1\" class=\"dataframe\">\n",
       "  <thead>\n",
       "    <tr style=\"text-align: right;\">\n",
       "      <th></th>\n",
       "      <th>age</th>\n",
       "      <th>sex</th>\n",
       "      <th>pain_type</th>\n",
       "      <th>restingBP</th>\n",
       "      <th>chol</th>\n",
       "      <th>fasting_sugar</th>\n",
       "      <th>resting_ecg</th>\n",
       "      <th>maxHR</th>\n",
       "      <th>exercise_angina</th>\n",
       "      <th>ST_depression</th>\n",
       "      <th>ST_peak_slope</th>\n",
       "      <th>vessels_fluoro</th>\n",
       "      <th>thal_severity</th>\n",
       "      <th>heart_disease</th>\n",
       "      <th>maxHR_above_avg</th>\n",
       "    </tr>\n",
       "  </thead>\n",
       "  <tbody>\n",
       "    <tr>\n",
       "      <th>0</th>\n",
       "      <td>63</td>\n",
       "      <td>1</td>\n",
       "      <td>3</td>\n",
       "      <td>145</td>\n",
       "      <td>233</td>\n",
       "      <td>1</td>\n",
       "      <td>0</td>\n",
       "      <td>150</td>\n",
       "      <td>0</td>\n",
       "      <td>2.3</td>\n",
       "      <td>0</td>\n",
       "      <td>0</td>\n",
       "      <td>1</td>\n",
       "      <td>1</td>\n",
       "      <td>0</td>\n",
       "    </tr>\n",
       "    <tr>\n",
       "      <th>1</th>\n",
       "      <td>37</td>\n",
       "      <td>1</td>\n",
       "      <td>2</td>\n",
       "      <td>130</td>\n",
       "      <td>250</td>\n",
       "      <td>0</td>\n",
       "      <td>1</td>\n",
       "      <td>187</td>\n",
       "      <td>0</td>\n",
       "      <td>3.5</td>\n",
       "      <td>0</td>\n",
       "      <td>0</td>\n",
       "      <td>2</td>\n",
       "      <td>1</td>\n",
       "      <td>1</td>\n",
       "    </tr>\n",
       "    <tr>\n",
       "      <th>2</th>\n",
       "      <td>41</td>\n",
       "      <td>0</td>\n",
       "      <td>1</td>\n",
       "      <td>130</td>\n",
       "      <td>204</td>\n",
       "      <td>0</td>\n",
       "      <td>0</td>\n",
       "      <td>172</td>\n",
       "      <td>0</td>\n",
       "      <td>1.4</td>\n",
       "      <td>2</td>\n",
       "      <td>0</td>\n",
       "      <td>2</td>\n",
       "      <td>1</td>\n",
       "      <td>0</td>\n",
       "    </tr>\n",
       "    <tr>\n",
       "      <th>3</th>\n",
       "      <td>56</td>\n",
       "      <td>1</td>\n",
       "      <td>1</td>\n",
       "      <td>120</td>\n",
       "      <td>236</td>\n",
       "      <td>0</td>\n",
       "      <td>1</td>\n",
       "      <td>178</td>\n",
       "      <td>0</td>\n",
       "      <td>0.8</td>\n",
       "      <td>2</td>\n",
       "      <td>0</td>\n",
       "      <td>2</td>\n",
       "      <td>1</td>\n",
       "      <td>1</td>\n",
       "    </tr>\n",
       "    <tr>\n",
       "      <th>4</th>\n",
       "      <td>57</td>\n",
       "      <td>0</td>\n",
       "      <td>0</td>\n",
       "      <td>120</td>\n",
       "      <td>354</td>\n",
       "      <td>0</td>\n",
       "      <td>1</td>\n",
       "      <td>163</td>\n",
       "      <td>1</td>\n",
       "      <td>0.6</td>\n",
       "      <td>2</td>\n",
       "      <td>0</td>\n",
       "      <td>2</td>\n",
       "      <td>1</td>\n",
       "      <td>0</td>\n",
       "    </tr>\n",
       "  </tbody>\n",
       "</table>\n",
       "</div>"
      ],
      "text/plain": [
       "   age  sex  pain_type  restingBP  chol  fasting_sugar  resting_ecg  maxHR  \\\n",
       "0   63    1          3        145   233              1            0    150   \n",
       "1   37    1          2        130   250              0            1    187   \n",
       "2   41    0          1        130   204              0            0    172   \n",
       "3   56    1          1        120   236              0            1    178   \n",
       "4   57    0          0        120   354              0            1    163   \n",
       "\n",
       "   exercise_angina  ST_depression  ST_peak_slope  vessels_fluoro  \\\n",
       "0                0            2.3              0               0   \n",
       "1                0            3.5              0               0   \n",
       "2                0            1.4              2               0   \n",
       "3                0            0.8              2               0   \n",
       "4                1            0.6              2               0   \n",
       "\n",
       "   thal_severity  heart_disease  maxHR_above_avg  \n",
       "0              1              1                0  \n",
       "1              2              1                1  \n",
       "2              2              1                0  \n",
       "3              2              1                1  \n",
       "4              2              1                0  "
      ]
     },
     "execution_count": 15,
     "metadata": {},
     "output_type": "execute_result"
    }
   ],
   "source": [
    "# The American Heart Associated defines higher than avgerage heart rate as any heart rate greater than 220 minus one's age\n",
    "\n",
    "# Create a list of rows containing only those with higher than average maximum heart rates\n",
    "def maxHR_above_avg():\n",
    "    above_avg = []\n",
    "    \n",
    "    for index, row in heart.iterrows():\n",
    "        if (220 - row['age'] < row['maxHR']):\n",
    "            above_avg.append(1)\n",
    "        else:\n",
    "            above_avg.append(0)\n",
    "    \n",
    "    return above_avg\n",
    "\n",
    "# Create a new column in heart dataframe\n",
    "heart['maxHR_above_avg'] = maxHR_above_avg()\n",
    "\n",
    "heart.head()"
   ]
  },
  {
   "cell_type": "markdown",
   "metadata": {},
   "source": [
    "## Create a new dataframe based on the top five most important features and transform on 0-1 scale"
   ]
  },
  {
   "cell_type": "markdown",
   "metadata": {},
   "source": [
    "### Reassign values to features based on their correlation with heart disease (see EDA notebook)\n",
    "\n",
    "E.g. An ST depression of 0 (bucketed) is more highly correlated with heart disease than a depression of 4. Therefore, I will change the 0's to 4's and 1's to 3's."
   ]
  },
  {
   "cell_type": "code",
   "execution_count": 16,
   "metadata": {},
   "outputs": [
    {
     "data": {
      "text/html": [
       "<div>\n",
       "<style scoped>\n",
       "    .dataframe tbody tr th:only-of-type {\n",
       "        vertical-align: middle;\n",
       "    }\n",
       "\n",
       "    .dataframe tbody tr th {\n",
       "        vertical-align: top;\n",
       "    }\n",
       "\n",
       "    .dataframe thead th {\n",
       "        text-align: right;\n",
       "    }\n",
       "</style>\n",
       "<table border=\"1\" class=\"dataframe\">\n",
       "  <thead>\n",
       "    <tr style=\"text-align: right;\">\n",
       "      <th></th>\n",
       "      <th>thal_severity</th>\n",
       "      <th>heart_disease</th>\n",
       "      <th>maxHR_above_avg</th>\n",
       "    </tr>\n",
       "  </thead>\n",
       "  <tbody>\n",
       "    <tr>\n",
       "      <th>0</th>\n",
       "      <td>1</td>\n",
       "      <td>1</td>\n",
       "      <td>0</td>\n",
       "    </tr>\n",
       "    <tr>\n",
       "      <th>1</th>\n",
       "      <td>2</td>\n",
       "      <td>1</td>\n",
       "      <td>1</td>\n",
       "    </tr>\n",
       "    <tr>\n",
       "      <th>2</th>\n",
       "      <td>2</td>\n",
       "      <td>1</td>\n",
       "      <td>0</td>\n",
       "    </tr>\n",
       "    <tr>\n",
       "      <th>3</th>\n",
       "      <td>2</td>\n",
       "      <td>1</td>\n",
       "      <td>1</td>\n",
       "    </tr>\n",
       "    <tr>\n",
       "      <th>4</th>\n",
       "      <td>2</td>\n",
       "      <td>1</td>\n",
       "      <td>0</td>\n",
       "    </tr>\n",
       "  </tbody>\n",
       "</table>\n",
       "</div>"
      ],
      "text/plain": [
       "   thal_severity  heart_disease  maxHR_above_avg\n",
       "0              1              1                0\n",
       "1              2              1                1\n",
       "2              2              1                0\n",
       "3              2              1                1\n",
       "4              2              1                0"
      ]
     },
     "execution_count": 16,
     "metadata": {},
     "output_type": "execute_result"
    }
   ],
   "source": [
    "columns = ['age', 'sex', 'pain_type', 'restingBP', 'chol', 'fasting_sugar', 'resting_ecg', 'maxHR', 'exercise_angina', 'ST_depression', 'ST_peak_slope', 'vessels_fluoro']\n",
    "heart2 = heart.drop(columns=columns)\n",
    "heart2.head()"
   ]
  },
  {
   "cell_type": "code",
   "execution_count": 17,
   "metadata": {},
   "outputs": [],
   "source": [
    "# Reassign pain_type values to reflect correlation with heart disease\n",
    "heart2['pain_type_corr'] = heart['pain_type'].apply(lambda x: 1 if x == 3\n",
    "                                                     else 2 if x == 2\n",
    "                                                     else 3 if x == 1\n",
    "                                                     else 4)"
   ]
  },
  {
   "cell_type": "code",
   "execution_count": 18,
   "metadata": {},
   "outputs": [],
   "source": [
    "heart2['ST_dep_corr'] = heart['ST_depression'].apply(lambda x: 4 if x < 1\n",
    "                                                     else 3 if x < 2\n",
    "                                                     else 2 if x < 3\n",
    "                                                     else 1 if x < 4\n",
    "                                                     else 0)"
   ]
  },
  {
   "cell_type": "code",
   "execution_count": 19,
   "metadata": {},
   "outputs": [],
   "source": [
    "heart2['vessels_corr'] = heart['vessels_fluoro'].apply(lambda x: 4 if x == 0\n",
    "                                                       else 3 if x == 1\n",
    "                                                       else 2 if x == 3\n",
    "                                                       else 0)"
   ]
  },
  {
   "cell_type": "code",
   "execution_count": 20,
   "metadata": {},
   "outputs": [
    {
     "data": {
      "text/html": [
       "<div>\n",
       "<style scoped>\n",
       "    .dataframe tbody tr th:only-of-type {\n",
       "        vertical-align: middle;\n",
       "    }\n",
       "\n",
       "    .dataframe tbody tr th {\n",
       "        vertical-align: top;\n",
       "    }\n",
       "\n",
       "    .dataframe thead th {\n",
       "        text-align: right;\n",
       "    }\n",
       "</style>\n",
       "<table border=\"1\" class=\"dataframe\">\n",
       "  <thead>\n",
       "    <tr style=\"text-align: right;\">\n",
       "      <th></th>\n",
       "      <th>thal_severity</th>\n",
       "      <th>heart_disease</th>\n",
       "      <th>maxHR_above_avg</th>\n",
       "      <th>pain_type_corr</th>\n",
       "      <th>ST_dep_corr</th>\n",
       "      <th>vessels_corr</th>\n",
       "    </tr>\n",
       "  </thead>\n",
       "  <tbody>\n",
       "    <tr>\n",
       "      <th>0</th>\n",
       "      <td>1</td>\n",
       "      <td>1</td>\n",
       "      <td>0</td>\n",
       "      <td>1</td>\n",
       "      <td>2</td>\n",
       "      <td>4</td>\n",
       "    </tr>\n",
       "    <tr>\n",
       "      <th>1</th>\n",
       "      <td>2</td>\n",
       "      <td>1</td>\n",
       "      <td>1</td>\n",
       "      <td>2</td>\n",
       "      <td>1</td>\n",
       "      <td>4</td>\n",
       "    </tr>\n",
       "    <tr>\n",
       "      <th>2</th>\n",
       "      <td>2</td>\n",
       "      <td>1</td>\n",
       "      <td>0</td>\n",
       "      <td>3</td>\n",
       "      <td>3</td>\n",
       "      <td>4</td>\n",
       "    </tr>\n",
       "    <tr>\n",
       "      <th>3</th>\n",
       "      <td>2</td>\n",
       "      <td>1</td>\n",
       "      <td>1</td>\n",
       "      <td>3</td>\n",
       "      <td>4</td>\n",
       "      <td>4</td>\n",
       "    </tr>\n",
       "    <tr>\n",
       "      <th>4</th>\n",
       "      <td>2</td>\n",
       "      <td>1</td>\n",
       "      <td>0</td>\n",
       "      <td>4</td>\n",
       "      <td>4</td>\n",
       "      <td>4</td>\n",
       "    </tr>\n",
       "  </tbody>\n",
       "</table>\n",
       "</div>"
      ],
      "text/plain": [
       "   thal_severity  heart_disease  maxHR_above_avg  pain_type_corr  ST_dep_corr  \\\n",
       "0              1              1                0               1            2   \n",
       "1              2              1                1               2            1   \n",
       "2              2              1                0               3            3   \n",
       "3              2              1                1               3            4   \n",
       "4              2              1                0               4            4   \n",
       "\n",
       "   vessels_corr  \n",
       "0             4  \n",
       "1             4  \n",
       "2             4  \n",
       "3             4  \n",
       "4             4  "
      ]
     },
     "execution_count": 20,
     "metadata": {},
     "output_type": "execute_result"
    }
   ],
   "source": [
    "heart2.head()"
   ]
  },
  {
   "cell_type": "code",
   "execution_count": 21,
   "metadata": {},
   "outputs": [
    {
     "name": "stderr",
     "output_type": "stream",
     "text": [
      "C:\\Users\\lilli\\Anaconda3\\lib\\site-packages\\sklearn\\preprocessing\\data.py:334: DataConversionWarning: Data with input dtype int64 were all converted to float64 by MinMaxScaler.\n",
      "  return self.partial_fit(X, y)\n"
     ]
    },
    {
     "data": {
      "text/html": [
       "<div>\n",
       "<style scoped>\n",
       "    .dataframe tbody tr th:only-of-type {\n",
       "        vertical-align: middle;\n",
       "    }\n",
       "\n",
       "    .dataframe tbody tr th {\n",
       "        vertical-align: top;\n",
       "    }\n",
       "\n",
       "    .dataframe thead th {\n",
       "        text-align: right;\n",
       "    }\n",
       "</style>\n",
       "<table border=\"1\" class=\"dataframe\">\n",
       "  <thead>\n",
       "    <tr style=\"text-align: right;\">\n",
       "      <th></th>\n",
       "      <th>maxHR_above_avg</th>\n",
       "      <th>pain_type_corr</th>\n",
       "      <th>ST_dep_corr</th>\n",
       "      <th>vessels_corr</th>\n",
       "      <th>thal_severity</th>\n",
       "      <th>heart_disease</th>\n",
       "    </tr>\n",
       "  </thead>\n",
       "  <tbody>\n",
       "    <tr>\n",
       "      <th>count</th>\n",
       "      <td>294.000000</td>\n",
       "      <td>294.000000</td>\n",
       "      <td>294.000000</td>\n",
       "      <td>294.000000</td>\n",
       "      <td>294.000000</td>\n",
       "      <td>285.000000</td>\n",
       "    </tr>\n",
       "    <tr>\n",
       "      <th>mean</th>\n",
       "      <td>0.210884</td>\n",
       "      <td>0.675737</td>\n",
       "      <td>0.820578</td>\n",
       "      <td>0.779762</td>\n",
       "      <td>0.766442</td>\n",
       "      <td>0.568421</td>\n",
       "    </tr>\n",
       "    <tr>\n",
       "      <th>std</th>\n",
       "      <td>0.408632</td>\n",
       "      <td>0.344953</td>\n",
       "      <td>0.243327</td>\n",
       "      <td>0.341534</td>\n",
       "      <td>0.203924</td>\n",
       "      <td>0.496168</td>\n",
       "    </tr>\n",
       "    <tr>\n",
       "      <th>min</th>\n",
       "      <td>0.000000</td>\n",
       "      <td>0.000000</td>\n",
       "      <td>0.000000</td>\n",
       "      <td>0.000000</td>\n",
       "      <td>0.000000</td>\n",
       "      <td>0.000000</td>\n",
       "    </tr>\n",
       "    <tr>\n",
       "      <th>25%</th>\n",
       "      <td>0.000000</td>\n",
       "      <td>0.333330</td>\n",
       "      <td>0.750000</td>\n",
       "      <td>0.750000</td>\n",
       "      <td>0.666670</td>\n",
       "      <td>0.000000</td>\n",
       "    </tr>\n",
       "    <tr>\n",
       "      <th>50%</th>\n",
       "      <td>0.000000</td>\n",
       "      <td>0.666670</td>\n",
       "      <td>1.000000</td>\n",
       "      <td>1.000000</td>\n",
       "      <td>0.666670</td>\n",
       "      <td>1.000000</td>\n",
       "    </tr>\n",
       "    <tr>\n",
       "      <th>75%</th>\n",
       "      <td>0.000000</td>\n",
       "      <td>1.000000</td>\n",
       "      <td>1.000000</td>\n",
       "      <td>1.000000</td>\n",
       "      <td>1.000000</td>\n",
       "      <td>1.000000</td>\n",
       "    </tr>\n",
       "    <tr>\n",
       "      <th>max</th>\n",
       "      <td>1.000000</td>\n",
       "      <td>1.000000</td>\n",
       "      <td>1.000000</td>\n",
       "      <td>1.000000</td>\n",
       "      <td>1.000000</td>\n",
       "      <td>1.000000</td>\n",
       "    </tr>\n",
       "  </tbody>\n",
       "</table>\n",
       "</div>"
      ],
      "text/plain": [
       "       maxHR_above_avg  pain_type_corr  ST_dep_corr  vessels_corr  \\\n",
       "count       294.000000      294.000000   294.000000    294.000000   \n",
       "mean          0.210884        0.675737     0.820578      0.779762   \n",
       "std           0.408632        0.344953     0.243327      0.341534   \n",
       "min           0.000000        0.000000     0.000000      0.000000   \n",
       "25%           0.000000        0.333330     0.750000      0.750000   \n",
       "50%           0.000000        0.666670     1.000000      1.000000   \n",
       "75%           0.000000        1.000000     1.000000      1.000000   \n",
       "max           1.000000        1.000000     1.000000      1.000000   \n",
       "\n",
       "       thal_severity  heart_disease  \n",
       "count     294.000000     285.000000  \n",
       "mean        0.766442       0.568421  \n",
       "std         0.203924       0.496168  \n",
       "min         0.000000       0.000000  \n",
       "25%         0.666670       0.000000  \n",
       "50%         0.666670       1.000000  \n",
       "75%         1.000000       1.000000  \n",
       "max         1.000000       1.000000  "
      ]
     },
     "execution_count": 21,
     "metadata": {},
     "output_type": "execute_result"
    }
   ],
   "source": [
    "from sklearn.preprocessing import MinMaxScaler\n",
    "\n",
    "columns = ['maxHR_above_avg', 'pain_type_corr', 'ST_dep_corr', 'vessels_corr', 'thal_severity']\n",
    "X = heart2[columns]\n",
    "y = heart2.heart_disease\n",
    "\n",
    "scaler = MinMaxScaler()\n",
    "X_scaled = scaler.fit_transform(X)\n",
    "\n",
    "heart2 = pd.DataFrame(X_scaled, columns=columns)\n",
    "heart2['heart_disease'] = heart['heart_disease']\n",
    "heart2 = heart2.round(decimals=5)\n",
    "heart2.describe()"
   ]
  },
  {
   "cell_type": "code",
   "execution_count": 22,
   "metadata": {},
   "outputs": [
    {
     "name": "stdout",
     "output_type": "stream",
     "text": [
      "maxHR_above_avg    False\n",
      "pain_type_corr     False\n",
      "ST_dep_corr        False\n",
      "vessels_corr       False\n",
      "thal_severity      False\n",
      "heart_disease       True\n",
      "dtype: bool\n",
      "[28, 85, 164, 204, 220, 221, 223, 246, 248]\n"
     ]
    }
   ],
   "source": [
    "# Check for null values after feature transformation\n",
    "print(heart2.isnull().any())\n",
    "\n",
    "# Find indices of null values\n",
    "na_indices = heart2.loc[pd.isna(heart2['heart_disease']), :].index.tolist()\n",
    "print(na_indices)"
   ]
  },
  {
   "cell_type": "code",
   "execution_count": 23,
   "metadata": {},
   "outputs": [
    {
     "data": {
      "text/plain": [
       "maxHR_above_avg    False\n",
       "pain_type_corr     False\n",
       "ST_dep_corr        False\n",
       "vessels_corr       False\n",
       "thal_severity      False\n",
       "heart_disease      False\n",
       "dtype: bool"
      ]
     },
     "execution_count": 23,
     "metadata": {},
     "output_type": "execute_result"
    }
   ],
   "source": [
    "# Fill null values with values from original dataframe\n",
    "fill_na = heart['heart_disease'].iloc[na_indices].tolist()\n",
    "fill_na = pd.Series(np.array(fill_na), index=na_indices)\n",
    "\n",
    "# Check null values again\n",
    "heart2['heart_disease'] = heart2['heart_disease'].fillna(fill_na)\n",
    "heart2.isnull().any()"
   ]
  },
  {
   "cell_type": "code",
   "execution_count": 24,
   "metadata": {},
   "outputs": [
    {
     "data": {
      "text/html": [
       "<div>\n",
       "<style scoped>\n",
       "    .dataframe tbody tr th:only-of-type {\n",
       "        vertical-align: middle;\n",
       "    }\n",
       "\n",
       "    .dataframe tbody tr th {\n",
       "        vertical-align: top;\n",
       "    }\n",
       "\n",
       "    .dataframe thead th {\n",
       "        text-align: right;\n",
       "    }\n",
       "</style>\n",
       "<table border=\"1\" class=\"dataframe\">\n",
       "  <thead>\n",
       "    <tr style=\"text-align: right;\">\n",
       "      <th></th>\n",
       "      <th>maxHR_above_avg</th>\n",
       "      <th>pain_type_corr</th>\n",
       "      <th>ST_dep_corr</th>\n",
       "      <th>vessels_corr</th>\n",
       "      <th>thal_severity</th>\n",
       "      <th>heart_disease</th>\n",
       "      <th>feature_sums</th>\n",
       "    </tr>\n",
       "  </thead>\n",
       "  <tbody>\n",
       "    <tr>\n",
       "      <th>0</th>\n",
       "      <td>0.0</td>\n",
       "      <td>0.00000</td>\n",
       "      <td>0.50</td>\n",
       "      <td>1.0</td>\n",
       "      <td>0.33333</td>\n",
       "      <td>1.0</td>\n",
       "      <td>1.83333</td>\n",
       "    </tr>\n",
       "    <tr>\n",
       "      <th>1</th>\n",
       "      <td>1.0</td>\n",
       "      <td>0.33333</td>\n",
       "      <td>0.25</td>\n",
       "      <td>1.0</td>\n",
       "      <td>0.66667</td>\n",
       "      <td>1.0</td>\n",
       "      <td>3.25000</td>\n",
       "    </tr>\n",
       "    <tr>\n",
       "      <th>2</th>\n",
       "      <td>0.0</td>\n",
       "      <td>0.66667</td>\n",
       "      <td>0.75</td>\n",
       "      <td>1.0</td>\n",
       "      <td>0.66667</td>\n",
       "      <td>1.0</td>\n",
       "      <td>3.08334</td>\n",
       "    </tr>\n",
       "    <tr>\n",
       "      <th>3</th>\n",
       "      <td>1.0</td>\n",
       "      <td>0.66667</td>\n",
       "      <td>1.00</td>\n",
       "      <td>1.0</td>\n",
       "      <td>0.66667</td>\n",
       "      <td>1.0</td>\n",
       "      <td>4.33334</td>\n",
       "    </tr>\n",
       "    <tr>\n",
       "      <th>4</th>\n",
       "      <td>0.0</td>\n",
       "      <td>1.00000</td>\n",
       "      <td>1.00</td>\n",
       "      <td>1.0</td>\n",
       "      <td>0.66667</td>\n",
       "      <td>1.0</td>\n",
       "      <td>3.66667</td>\n",
       "    </tr>\n",
       "  </tbody>\n",
       "</table>\n",
       "</div>"
      ],
      "text/plain": [
       "   maxHR_above_avg  pain_type_corr  ST_dep_corr  vessels_corr  thal_severity  \\\n",
       "0              0.0         0.00000         0.50           1.0        0.33333   \n",
       "1              1.0         0.33333         0.25           1.0        0.66667   \n",
       "2              0.0         0.66667         0.75           1.0        0.66667   \n",
       "3              1.0         0.66667         1.00           1.0        0.66667   \n",
       "4              0.0         1.00000         1.00           1.0        0.66667   \n",
       "\n",
       "   heart_disease  feature_sums  \n",
       "0            1.0       1.83333  \n",
       "1            1.0       3.25000  \n",
       "2            1.0       3.08334  \n",
       "3            1.0       4.33334  \n",
       "4            1.0       3.66667  "
      ]
     },
     "execution_count": 24,
     "metadata": {},
     "output_type": "execute_result"
    }
   ],
   "source": [
    "heart2['feature_sums'] = heart2['maxHR_above_avg'] + heart2['pain_type_corr'] + heart2['ST_dep_corr'] \\\n",
    "                        + heart2['vessels_corr'] + heart2['thal_severity']\n",
    "\n",
    "heart2.head()"
   ]
  },
  {
   "cell_type": "markdown",
   "metadata": {},
   "source": [
    "## Bucket the feature_sums values for better visualization"
   ]
  },
  {
   "cell_type": "code",
   "execution_count": 25,
   "metadata": {},
   "outputs": [
    {
     "data": {
      "text/plain": [
       "count    294.000000\n",
       "mean       3.253403\n",
       "std        0.665342\n",
       "min        1.166670\n",
       "25%        2.750000\n",
       "50%        3.250000\n",
       "75%        3.666670\n",
       "max        5.000000\n",
       "Name: feature_sums, dtype: float64"
      ]
     },
     "execution_count": 25,
     "metadata": {},
     "output_type": "execute_result"
    }
   ],
   "source": [
    "heart2['feature_sums'].describe()"
   ]
  },
  {
   "cell_type": "code",
   "execution_count": 26,
   "metadata": {},
   "outputs": [],
   "source": [
    "# Bucket feature_sums feature\n",
    "heart2['bucket_feature_sums'] = heart2['feature_sums'].apply(lambda x: 1.0 if x < 1.29\n",
    "                                                             else 1.5 if x < 1.79\n",
    "                                                             else 2.0 if x < 2.29\n",
    "                                                             else 2.5 if x < 2.79\n",
    "                                                             else 3.0 if x < 3.29\n",
    "                                                             else 3.5 if x < 3.79\n",
    "                                                             else 4.0 if x < 4.29\n",
    "                                                             else 4.5 if x < 4.79\n",
    "                                                             else 5.0)"
   ]
  },
  {
   "cell_type": "code",
   "execution_count": 27,
   "metadata": {},
   "outputs": [
    {
     "data": {
      "text/html": [
       "<div>\n",
       "<style scoped>\n",
       "    .dataframe tbody tr th:only-of-type {\n",
       "        vertical-align: middle;\n",
       "    }\n",
       "\n",
       "    .dataframe tbody tr th {\n",
       "        vertical-align: top;\n",
       "    }\n",
       "\n",
       "    .dataframe thead th {\n",
       "        text-align: right;\n",
       "    }\n",
       "</style>\n",
       "<table border=\"1\" class=\"dataframe\">\n",
       "  <thead>\n",
       "    <tr style=\"text-align: right;\">\n",
       "      <th></th>\n",
       "      <th>maxHR_above_avg</th>\n",
       "      <th>pain_type_corr</th>\n",
       "      <th>ST_dep_corr</th>\n",
       "      <th>vessels_corr</th>\n",
       "      <th>thal_severity</th>\n",
       "      <th>heart_disease</th>\n",
       "      <th>feature_sums</th>\n",
       "      <th>bucket_feature_sums</th>\n",
       "    </tr>\n",
       "  </thead>\n",
       "  <tbody>\n",
       "    <tr>\n",
       "      <th>0</th>\n",
       "      <td>0.0</td>\n",
       "      <td>0.00000</td>\n",
       "      <td>0.50</td>\n",
       "      <td>1.0</td>\n",
       "      <td>0.33333</td>\n",
       "      <td>1.0</td>\n",
       "      <td>1.83333</td>\n",
       "      <td>2.0</td>\n",
       "    </tr>\n",
       "    <tr>\n",
       "      <th>1</th>\n",
       "      <td>1.0</td>\n",
       "      <td>0.33333</td>\n",
       "      <td>0.25</td>\n",
       "      <td>1.0</td>\n",
       "      <td>0.66667</td>\n",
       "      <td>1.0</td>\n",
       "      <td>3.25000</td>\n",
       "      <td>3.0</td>\n",
       "    </tr>\n",
       "    <tr>\n",
       "      <th>2</th>\n",
       "      <td>0.0</td>\n",
       "      <td>0.66667</td>\n",
       "      <td>0.75</td>\n",
       "      <td>1.0</td>\n",
       "      <td>0.66667</td>\n",
       "      <td>1.0</td>\n",
       "      <td>3.08334</td>\n",
       "      <td>3.0</td>\n",
       "    </tr>\n",
       "    <tr>\n",
       "      <th>3</th>\n",
       "      <td>1.0</td>\n",
       "      <td>0.66667</td>\n",
       "      <td>1.00</td>\n",
       "      <td>1.0</td>\n",
       "      <td>0.66667</td>\n",
       "      <td>1.0</td>\n",
       "      <td>4.33334</td>\n",
       "      <td>4.5</td>\n",
       "    </tr>\n",
       "    <tr>\n",
       "      <th>4</th>\n",
       "      <td>0.0</td>\n",
       "      <td>1.00000</td>\n",
       "      <td>1.00</td>\n",
       "      <td>1.0</td>\n",
       "      <td>0.66667</td>\n",
       "      <td>1.0</td>\n",
       "      <td>3.66667</td>\n",
       "      <td>3.5</td>\n",
       "    </tr>\n",
       "  </tbody>\n",
       "</table>\n",
       "</div>"
      ],
      "text/plain": [
       "   maxHR_above_avg  pain_type_corr  ST_dep_corr  vessels_corr  thal_severity  \\\n",
       "0              0.0         0.00000         0.50           1.0        0.33333   \n",
       "1              1.0         0.33333         0.25           1.0        0.66667   \n",
       "2              0.0         0.66667         0.75           1.0        0.66667   \n",
       "3              1.0         0.66667         1.00           1.0        0.66667   \n",
       "4              0.0         1.00000         1.00           1.0        0.66667   \n",
       "\n",
       "   heart_disease  feature_sums  bucket_feature_sums  \n",
       "0            1.0       1.83333                  2.0  \n",
       "1            1.0       3.25000                  3.0  \n",
       "2            1.0       3.08334                  3.0  \n",
       "3            1.0       4.33334                  4.5  \n",
       "4            1.0       3.66667                  3.5  "
      ]
     },
     "execution_count": 27,
     "metadata": {},
     "output_type": "execute_result"
    }
   ],
   "source": [
    "heart2.head()"
   ]
  },
  {
   "cell_type": "markdown",
   "metadata": {},
   "source": [
    "### Visualize Relationship of Feature Sums to Heart Disease"
   ]
  },
  {
   "cell_type": "code",
   "execution_count": 28,
   "metadata": {},
   "outputs": [
    {
     "data": {
      "text/plain": [
       "<matplotlib.axes._subplots.AxesSubplot at 0x1d64b194160>"
      ]
     },
     "execution_count": 28,
     "metadata": {},
     "output_type": "execute_result"
    },
    {
     "data": {
      "image/png": "[encoded data removed]",
      "text/plain": [
       "<Figure size 864x720 with 1 Axes>"
      ]
     },
     "metadata": {
      "needs_background": "light"
     },
     "output_type": "display_data"
    }
   ],
   "source": [
    "sns.countplot('bucket_feature_sums', data=heart2, hue=\"heart_disease\")"
   ]
  },
  {
   "cell_type": "code",
   "execution_count": 29,
   "metadata": {},
   "outputs": [
    {
     "data": {
      "text/plain": [
       "([<matplotlib.axis.XTick at 0x1d64b8cc828>,\n",
       "  <matplotlib.axis.XTick at 0x1d64b8cc198>],\n",
       " <a list of 2 Text xticklabel objects>)"
      ]
     },
     "execution_count": 29,
     "metadata": {},
     "output_type": "execute_result"
    },
    {
     "data": {
      "image/png": "[encoded data removed]",
      "text/plain": [
       "<Figure size 864x720 with 1 Axes>"
      ]
     },
     "metadata": {
      "needs_background": "light"
     },
     "output_type": "display_data"
    }
   ],
   "source": [
    "sns.boxplot(x='heart_disease', y='bucket_feature_sums', data=heart2)\n",
    "\n",
    "plt.rcParams['figure.figsize'] = (10, 10)\n",
    "plt.xlabel('Heart Disease', fontsize=20)\n",
    "plt.ylabel('Feature Sums', fontsize=20)\n",
    "plt.title('Disease by Sum of Scaled Important Features', fontsize=25)\n",
    "plt.xticks([0, 1], ['No Heart Disease', 'Heart Disease'], fontsize=15)"
   ]
  },
  {
   "cell_type": "markdown",
   "metadata": {},
   "source": [
    "# IV. Modeling II - Train and test models on dataframe of scaled important features"
   ]
  },
  {
   "cell_type": "markdown",
   "metadata": {},
   "source": [
    "## K-Nearest Neighbors"
   ]
  },
  {
   "cell_type": "code",
   "execution_count": 30,
   "metadata": {},
   "outputs": [
    {
     "data": {
      "image/png": "[encoded data removed]",
      "text/plain": [
       "<Figure size 720x720 with 1 Axes>"
      ]
     },
     "metadata": {
      "needs_background": "light"
     },
     "output_type": "display_data"
    }
   ],
   "source": [
    "X = heart2.drop(columns='heart_disease')\n",
    "y = heart2['heart_disease']\n",
    "\n",
    "X_train, X_test, y_train, y_test = train_test_split(X, y, random_state=1)\n",
    "\n",
    "plot_KNN_scores(X, y)"
   ]
  },
  {
   "cell_type": "markdown",
   "metadata": {},
   "source": [
    "## Decision Tree Classification & Visualization"
   ]
  },
  {
   "cell_type": "code",
   "execution_count": 31,
   "metadata": {},
   "outputs": [
    {
     "name": "stdout",
     "output_type": "stream",
     "text": [
      "Decision Tree Accuracy Score \n",
      " New score:  0.7027027027027027 \n",
      " \t versus \n",
      " Old score:  0.6891891891891891\n"
     ]
    }
   ],
   "source": [
    "from sklearn.tree import DecisionTreeClassifier\n",
    "\n",
    "X = heart2.drop(columns='heart_disease')\n",
    "y = heart2.heart_disease\n",
    "\n",
    "acc = dtree(X, y)\n",
    "\n",
    "print(\"Decision Tree Accuracy Score \\n New score: \", acc, \"\\n \\t versus \\n Old score: \", dt_score_one)"
   ]
  },
  {
   "cell_type": "code",
   "execution_count": 32,
   "metadata": {},
   "outputs": [
    {
     "data": {
      "text/plain": [
       "True"
      ]
     },
     "execution_count": 32,
     "metadata": {},
     "output_type": "execute_result"
    }
   ],
   "source": [
    "features = heart2.drop(columns='heart_disease')\n",
    "target = heart2.heart_disease\n",
    "\n",
    "# Create classifier object\n",
    "dec_tree = DecisionTreeClassifier(random_state=0)\n",
    "\n",
    "# Train\n",
    "model = dec_tree.fit(features, target)\n",
    "\n",
    "# Create DOT data\n",
    "dot_data = tree.export_graphviz(dec_tree, feature_names=heart2.drop(columns='heart_disease').columns.values, class_names=\"01\")\n",
    "\n",
    "# Draw graph\n",
    "graph = pydotplus.graph_from_dot_data(dot_data)\n",
    "\n",
    "# Save graph\n",
    "graph.write_png(\"updated_decision_tree.png\")"
   ]
  },
  {
   "cell_type": "markdown",
   "metadata": {},
   "source": [
    "![Decision Tree Visualization](updated_decision_tree.png)"
   ]
  },
  {
   "cell_type": "markdown",
   "metadata": {},
   "source": [
    "## Logistic Regression"
   ]
  },
  {
   "cell_type": "code",
   "execution_count": 33,
   "metadata": {},
   "outputs": [
    {
     "name": "stderr",
     "output_type": "stream",
     "text": [
      "C:\\Users\\lilli\\Anaconda3\\lib\\site-packages\\sklearn\\linear_model\\logistic.py:433: FutureWarning: Default solver will be changed to 'lbfgs' in 0.22. Specify a solver to silence this warning.\n",
      "  FutureWarning)\n"
     ]
    },
    {
     "name": "stdout",
     "output_type": "stream",
     "text": [
      "Logistic Regression Score \n",
      " New Score:  0.7702702702702703  \n",
      " \t versus \n",
      " Old score:  0.8918918918918919\n"
     ]
    }
   ],
   "source": [
    "X = heart2.drop(columns='heart_disease')\n",
    "y = heart2.heart_disease\n",
    "\n",
    "lg_new_score = logreg(X, y)\n",
    "\n",
    "print(\"Logistic Regression Score \\n New Score: \", lg_new_score, \" \\n \\t versus \\n Old score: \", lg_score_one)"
   ]
  },
  {
   "cell_type": "code",
   "execution_count": 34,
   "metadata": {},
   "outputs": [],
   "source": [
    "# Train Multiclass Classifier\n",
    "from sklearn.preprocessing import StandardScaler\n",
    "\n",
    "features = heart2.drop(columns='heart_disease')\n",
    "target = heart2.heart_disease\n",
    "\n",
    "# Standardize features\n",
    "scaler = StandardScaler()\n",
    "features_standardized = scaler.fit_transform(features)"
   ]
  },
  {
   "cell_type": "code",
   "execution_count": 35,
   "metadata": {},
   "outputs": [
    {
     "name": "stderr",
     "output_type": "stream",
     "text": [
      "C:\\Users\\lilli\\Anaconda3\\lib\\site-packages\\sklearn\\linear_model\\logistic.py:433: FutureWarning: Default solver will be changed to 'lbfgs' in 0.22. Specify a solver to silence this warning.\n",
      "  FutureWarning)\n"
     ]
    },
    {
     "data": {
      "text/plain": [
       "Text(0.5, 69.0, 'True Label')"
      ]
     },
     "execution_count": 35,
     "metadata": {},
     "output_type": "execute_result"
    },
    {
     "data": {
      "image/png": "[encoded data removed]",
      "text/plain": [
       "<Figure size 720x720 with 1 Axes>"
      ]
     },
     "metadata": {
      "needs_background": "light"
     },
     "output_type": "display_data"
    }
   ],
   "source": [
    "from sklearn.metrics import confusion_matrix\n",
    "\n",
    "X = heart2.drop(columns='heart_disease')\n",
    "y = heart2.heart_disease\n",
    "\n",
    "X_train, X_test, y_train, y_test = train_test_split(X, y, random_state=1)\n",
    "\n",
    "y_pred_std = logreg_avg_pred(features_standardized, target)\n",
    "\n",
    "df = confusion_matrix(y_test, y_pred_std)\n",
    "\n",
    "sns.heatmap(df, annot=True, cbar=None, cmap=\"Blues\")\n",
    "plt.rcParams[\"figure.figsize\"] = [12.0, 10.0]\n",
    "plt.title(\"Confusion Matrix\")\n",
    "plt.ylabel(\"Predicted Label\")\n",
    "plt.xlabel(\"True Label\")"
   ]
  },
  {
   "cell_type": "code",
   "execution_count": 36,
   "metadata": {},
   "outputs": [
    {
     "data": {
      "image/png": "[encoded data removed]",
      "text/plain": [
       "<Figure size 864x720 with 1 Axes>"
      ]
     },
     "metadata": {
      "needs_background": "light"
     },
     "output_type": "display_data"
    }
   ],
   "source": [
    "# Plot ROC Curve\n",
    "from sklearn.linear_model import LogisticRegression\n",
    "from sklearn.metrics import roc_curve, roc_auc_score\n",
    "\n",
    "X_train, X_test, y_train, y_test = train_test_split(features_standardized, target, random_state=1)\n",
    "\n",
    "falsePos, truePos, threshold = roc_curve(y_test, y_pred_std)\n",
    "\n",
    "plt.plot(falsePos, truePos, lw=2, label='ROC curve (AUC = %0.2f)' % roc_auc_score(y_test, y_pred_std))\n",
    "plt.plot([0, 1], ls='--')\n",
    "plt.plot([0, 0], [1, 0], c=\".7\")\n",
    "plt.plot([1, 1], c=\".7\")\n",
    "plt.ylabel(\"True Positive Rate\")\n",
    "plt.xlabel(\"False Positive Rate\")\n",
    "plt.title(\"Receiver Operating Characteristic\")\n",
    "plt.legend(loc=4, bbox_to_anchor=(0.90, 0.2), fontsize=18)\n",
    "plt.rcParams[\"figure.figsize\"] = [12.0, 10.0]"
   ]
  },
  {
   "cell_type": "markdown",
   "metadata": {},
   "source": [
    "## Random Forest Classification"
   ]
  },
  {
   "cell_type": "code",
   "execution_count": 39,
   "metadata": {},
   "outputs": [
    {
     "name": "stderr",
     "output_type": "stream",
     "text": [
      "C:\\Users\\lilli\\Anaconda3\\lib\\site-packages\\sklearn\\ensemble\\forest.py:246: FutureWarning: The default value of n_estimators will change from 10 in version 0.20 to 100 in 0.22.\n",
      "  \"10 in version 0.20 to 100 in 0.22.\", FutureWarning)\n"
     ]
    },
    {
     "name": "stdout",
     "output_type": "stream",
     "text": [
      "Random Forest Accuracy Score \n",
      " New score:  0.7702702702702703  \n",
      " \t versus \n",
      " Old score: 0.7432432432432432\n"
     ]
    }
   ],
   "source": [
    "X = heart2.drop(columns='heart_disease')\n",
    "y = heart2.heart_disease\n",
    "\n",
    "rf_score_new = randomforest(X, y)\n",
    "\n",
    "print(\"Random Forest Accuracy Score \\n New score: \", rf_score_new, \" \\n \\t versus \\n Old score:\", rf_score_one)"
   ]
  },
  {
   "cell_type": "markdown",
   "metadata": {},
   "source": [
    "# V. Comparison of Model Performance and Final Thoughts"
   ]
  },
  {
   "cell_type": "code",
   "execution_count": null,
   "metadata": {},
   "outputs": [],
   "source": []
  }
 ],
 "metadata": {
  "kernelspec": {
   "display_name": "Python 3",
   "language": "python",
   "name": "python3"
  },
  "language_info": {
   "codemirror_mode": {
    "name": "ipython",
    "version": 3
   },
   "file_extension": ".py",
   "mimetype": "text/x-python",
   "name": "python",
   "nbconvert_exporter": "python",
   "pygments_lexer": "ipython3",
   "version": "3.7.3"
  }
 },
 "nbformat": 4,
 "nbformat_minor": 2
}
