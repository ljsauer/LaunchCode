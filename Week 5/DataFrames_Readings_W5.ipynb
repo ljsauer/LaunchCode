{
 "cells": [
  {
   "cell_type": "code",
   "execution_count": null,
   "metadata": {},
   "outputs": [],
   "source": [
    "\"\"\"\n",
    "https://www.datacamp.com/community/tutorials/\n",
    "pandas-tutorial-dataframe-python\n",
    "\n",
    "(Second half of tutorial)\n",
    "\"\"\""
   ]
  },
  {
   "cell_type": "code",
   "execution_count": 2,
   "metadata": {},
   "outputs": [],
   "source": [
    "import pandas as pd\n",
    "import numpy as np"
   ]
  },
  {
   "cell_type": "code",
   "execution_count": 40,
   "metadata": {},
   "outputs": [
    {
     "name": "stdout",
     "output_type": "stream",
     "text": [
      "   A  B  C\n",
      "0  1  2  3\n",
      "1  4  5  6\n",
      "2  7  8  9\n"
     ]
    }
   ],
   "source": [
    "# Resetting the index of your DataFrame\n",
    "df = pd.DataFrame(data = np.array([[1, 2, 3], [4, 5, 6],\n",
    "                                  [7, 8, 9]]), columns = \n",
    "                 ['A', 'B', 'C'])\n",
    "print(df)"
   ]
  },
  {
   "cell_type": "code",
   "execution_count": 41,
   "metadata": {},
   "outputs": [
    {
     "name": "stdout",
     "output_type": "stream",
     "text": [
      "   A  B  C  D\n",
      "0  1  2  3  0\n",
      "1  4  5  6  1\n",
      "2  7  8  9  2\n"
     ]
    }
   ],
   "source": [
    "# Adding a column\n",
    "df['D'] = df.index\n",
    "print(df)"
   ]
  },
  {
   "cell_type": "code",
   "execution_count": 42,
   "metadata": {},
   "outputs": [
    {
     "name": "stdout",
     "output_type": "stream",
     "text": [
      "   A  B  C  D  4\n",
      "0  1  2  3  0  5\n",
      "1  4  5  6  1  6\n",
      "2  7  8  9  2  7\n"
     ]
    }
   ],
   "source": [
    "# Appending a column\n",
    "df.loc[:, 4] = pd.Series(['5', '6', '7'], index=df.index)\n",
    "print(df)"
   ]
  },
  {
   "cell_type": "code",
   "execution_count": 43,
   "metadata": {},
   "outputs": [
    {
     "name": "stdout",
     "output_type": "stream",
     "text": [
      "   A  B  C  D  4\n",
      "0  1  2  3  0  5\n",
      "1  4  5  6  1  6\n",
      "2  7  8  9  2  7\n"
     ]
    }
   ],
   "source": [
    "# Resetting the index\n",
    "df_reset = df.reset_index(level=0, drop=True)\n",
    "print(df_reset)"
   ]
  },
  {
   "cell_type": "code",
   "execution_count": 44,
   "metadata": {},
   "outputs": [
    {
     "name": "stdout",
     "output_type": "stream",
     "text": [
      "   B  C  D  4\n",
      "0  2  3  0  5\n",
      "1  5  6  1  6\n",
      "2  8  9  2  7\n"
     ]
    },
    {
     "data": {
      "text/html": [
       "<div>\n",
       "<style scoped>\n",
       "    .dataframe tbody tr th:only-of-type {\n",
       "        vertical-align: middle;\n",
       "    }\n",
       "\n",
       "    .dataframe tbody tr th {\n",
       "        vertical-align: top;\n",
       "    }\n",
       "\n",
       "    .dataframe thead th {\n",
       "        text-align: right;\n",
       "    }\n",
       "</style>\n",
       "<table border=\"1\" class=\"dataframe\">\n",
       "  <thead>\n",
       "    <tr style=\"text-align: right;\">\n",
       "      <th></th>\n",
       "      <th>B</th>\n",
       "      <th>D</th>\n",
       "      <th>4</th>\n",
       "    </tr>\n",
       "  </thead>\n",
       "  <tbody>\n",
       "    <tr>\n",
       "      <th>0</th>\n",
       "      <td>2</td>\n",
       "      <td>0</td>\n",
       "      <td>5</td>\n",
       "    </tr>\n",
       "    <tr>\n",
       "      <th>1</th>\n",
       "      <td>5</td>\n",
       "      <td>1</td>\n",
       "      <td>6</td>\n",
       "    </tr>\n",
       "    <tr>\n",
       "      <th>2</th>\n",
       "      <td>8</td>\n",
       "      <td>2</td>\n",
       "      <td>7</td>\n",
       "    </tr>\n",
       "  </tbody>\n",
       "</table>\n",
       "</div>"
      ],
      "text/plain": [
       "   B  D  4\n",
       "0  2  0  5\n",
       "1  5  1  6\n",
       "2  8  2  7"
      ]
     },
     "execution_count": 44,
     "metadata": {},
     "output_type": "execute_result"
    }
   ],
   "source": [
    "# Deleting a column (axis=0 for row, axis=1 for column)\n",
    "# By label\n",
    "df_reset.drop('A', axis=1, inplace=True)\n",
    "# By position\n",
    "df_reset.drop(df_reset.columns[[1]], axis=1)\n",
    "print(df_reset)\n",
    "# Or use:\n",
    "df_reset.drop(columns = ['C'])"
   ]
  },
  {
   "cell_type": "code",
   "execution_count": 48,
   "metadata": {},
   "outputs": [
    {
     "name": "stdout",
     "output_type": "stream",
     "text": [
      "   B  C  D  4\n",
      "0  2  3  0  5\n",
      "1  5  6  1  6\n",
      "2  8  9  2  7\n"
     ]
    }
   ],
   "source": [
    "# Deleting a row\n",
    "df_reset.drop([0])\n",
    "print(df_reset)"
   ]
  },
  {
   "cell_type": "code",
   "execution_count": 49,
   "metadata": {},
   "outputs": [
    {
     "name": "stdout",
     "output_type": "stream",
     "text": [
      "   A  B  C\n",
      "0  1  2  3\n",
      "1  4  5  6\n",
      "2  7  8  9\n",
      "   One  Two  Three\n",
      "0    1    2      3\n",
      "1    4    5      6\n",
      "2    7    8      9\n"
     ]
    }
   ],
   "source": [
    "# Renaming the index or columns\n",
    "df = pd.DataFrame(data = np.array([[1, 2, 3], [4, 5, 6], [7, 8, 9]]), index = [0, 1, 2], columns = ['A', 'B', 'C'])\n",
    "print(df)\n",
    "\n",
    "# New column names\n",
    "newcols = {\n",
    "    'A': 'One',\n",
    "    'B': 'Two',\n",
    "    'C': 'Three',\n",
    "}\n",
    "# Use rename() to apply the new names\n",
    "df.rename(columns=newcols, inplace=True)\n",
    "df.rename(index={1: 'a'})\n",
    "print(df)"
   ]
  },
  {
   "cell_type": "code",
   "execution_count": 3,
   "metadata": {},
   "outputs": [
    {
     "name": "stdout",
     "output_type": "stream",
     "text": [
      "    Student_1 Student_2   Student_3\n",
      "0          Ok   Perfect  Acceptable\n",
      "1       Awful     Awful     Perfect\n",
      "2  Acceptable        Ok        Poor\n"
     ]
    }
   ],
   "source": [
    "# Replacing occurrences of strings in DataFrames\n",
    "df = pd.DataFrame(data = np.array([[\"Ok\", \"Perfect\", \"Acceptable\"],\n",
    "                                  [\"Awful\", \"Awful\", \"Perfect\"],\n",
    "                                  [\"Acceptable\", \"Ok\", \"Poor\"]]),\n",
    "                 columns=[\"Student_1\", \"Student_2\", \"Student_3\"],\n",
    "                 index=[0, 1, 2])\n",
    "print(df)"
   ]
  },
  {
   "cell_type": "code",
   "execution_count": 5,
   "metadata": {},
   "outputs": [
    {
     "name": "stdout",
     "output_type": "stream",
     "text": [
      "    Student_1 Student_2   Student_3\n",
      "0          Ok   Perfect  Acceptable\n",
      "1       Awful     Awful     Perfect\n",
      "2  Acceptable        Ok        Poor\n"
     ]
    }
   ],
   "source": [
    "df.replace([\"Perfect\", \"Ok\", \"Acceptable\", \"Poor\", \"Awful\"],\n",
    "          [4, 3, 2, 1, 0])\n",
    "print(df)"
   ]
  },
  {
   "cell_type": "code",
   "execution_count": 7,
   "metadata": {},
   "outputs": [
    {
     "name": "stdout",
     "output_type": "stream",
     "text": [
      "    Student_1 Student_2  Student_3\n",
      "0          Ok   Perfect  cceptable\n",
      "1       Awful     Awful     Perfec\n",
      "2  Acceptable        Ok        Poo\n"
     ]
    }
   ],
   "source": [
    "# Removing parts of strings\n",
    "df['Student_3'] = df['Student_3'].map(lambda x: x.lstrip('Ae')\n",
    "                                     .rstrip('Ptr'))\n",
    "print(df)"
   ]
  },
  {
   "cell_type": "code",
   "execution_count": 8,
   "metadata": {},
   "outputs": [
    {
     "name": "stdout",
     "output_type": "stream",
     "text": [
      "    A\n",
      "0 NaN\n",
      "1 NaN\n",
      "2 NaN\n",
      "3 NaN\n"
     ]
    }
   ],
   "source": [
    "# Creating an empty DataFrame (defaults to type Float)\n",
    "df = pd.DataFrame(np.nan, index=[0,1,2,3], columns=['A'])\n",
    "print(df)"
   ]
  },
  {
   "cell_type": "code",
   "execution_count": null,
   "metadata": {},
   "outputs": [],
   "source": []
  },
  {
   "cell_type": "code",
   "execution_count": null,
   "metadata": {},
   "outputs": [],
   "source": []
  }
 ],
 "metadata": {
  "kernelspec": {
   "display_name": "Python 3",
   "language": "python",
   "name": "python3"
  },
  "language_info": {
   "codemirror_mode": {
    "name": "ipython",
    "version": 3
   },
   "file_extension": ".py",
   "mimetype": "text/x-python",
   "name": "python",
   "nbconvert_exporter": "python",
   "pygments_lexer": "ipython3",
   "version": "3.7.3"
  }
 },
 "nbformat": 4,
 "nbformat_minor": 4
}
