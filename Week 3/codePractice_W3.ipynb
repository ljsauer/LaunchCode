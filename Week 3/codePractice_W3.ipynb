{
 "cells": [
  {
   "cell_type": "code",
   "execution_count": 3,
   "metadata": {},
   "outputs": [
    {
     "name": "stdout",
     "output_type": "stream",
     "text": [
      "[2, 3, 5, 7, 11, 13, 17, 19, 23, 29]\n"
     ]
    }
   ],
   "source": [
    "# Loops with an else block (#07 of WhirlwindTourOfPython from GitHub)\n",
    "L = []\n",
    "nmax = 30\n",
    "\n",
    "for n in range(2, nmax):\n",
    "    for factor in L:\n",
    "        if n % factor == 0:\n",
    "            break\n",
    "    else:\n",
    "        L.append(n)\n",
    "\n",
    "print(L)"
   ]
  },
  {
   "cell_type": "code",
   "execution_count": 1,
   "metadata": {},
   "outputs": [
    {
     "name": "stdin",
     "output_type": "stream",
     "text": [
      "Enter a number:  5\n"
     ]
    },
    {
     "name": "stdout",
     "output_type": "stream",
     "text": [
      "0\n",
      "1\n",
      "4\n",
      "9\n",
      "16\n"
     ]
    }
   ],
   "source": [
    "\"\"\"\n",
    "HackerRank loops (https://www.hackerrank.com/challenges/\n",
    "python-loops/problem)\n",
    "    * Task: Read an integer n. For all non-negative integers i<n,\n",
    "    print i^2\n",
    "    * 1 <= n <= 20; print n lines, one corresponding to each i\n",
    "\"\"\"\n",
    "n = int(input(\"Enter a number: \"))\n",
    "\n",
    "for i in range(n+1):\n",
    "    if n > 0 and n < 21:\n",
    "        if i < n:\n",
    "            print(i ** 2)"
   ]
  },
  {
   "cell_type": "code",
   "execution_count": 43,
   "metadata": {},
   "outputs": [
    {
     "name": "stdout",
     "output_type": "stream",
     "text": [
      "[[0, 0, 0]]\n"
     ]
    }
   ],
   "source": [
    "\"\"\"\n",
    "https://www.hackerrank.com/challenges/list-comprehensions/problem\n",
    "    * Given: three integers, X, Y, Z, which represent the\n",
    "    dimensions of a cuboid; a fourth integer, n\n",
    "    * Print list of all possible coordinates given by (i, j, k)\n",
    "    on a 3D grid where the sum of i + j + k != N\n",
    "    * 0 <= i <=X; 0 <= j <=Y; 0 <= k <=Z\n",
    "\"\"\"\n",
    "# (my attempt at generating 4 random integers)\n",
    "import random as rand\n",
    "\n",
    "list_nums = []\n",
    "while len(list_nums) < 4:\n",
    "    list_nums.append(rand.randint(0, 2))\n",
    "    \n",
    "x = list_nums[0]\n",
    "y = list_nums[1]\n",
    "z = list_nums[2]\n",
    "n = list_nums[3]\n",
    "\n",
    "# (end of num generating code) HackerRank submission below:\n",
    "\n",
    "result = [[i, j, k] for i in range(0, x+1) for j in range(0, y+1)\n",
    " for k in range(0, z+1) if i+j+k != n]\n",
    "\n",
    "print(result)"
   ]
  },
  {
   "cell_type": "code",
   "execution_count": 44,
   "metadata": {},
   "outputs": [
    {
     "name": "stdout",
     "output_type": "stream",
     "text": [
      "[0, 0, 0, 2]\n"
     ]
    }
   ],
   "source": [
    "print(list_nums)"
   ]
  },
  {
   "cell_type": "code",
   "execution_count": null,
   "metadata": {},
   "outputs": [],
   "source": [
    "\"\"\"\n",
    "https://www.hackerrank.com/challenges/whats-your-name/problem\n",
    "    * Given: firstname (a) and lastname (b)\n",
    "    * Print: \"Hello firstname lastname! Welcome to python.\"\n",
    "\"\"\" \n",
    "def print_full_name(input, input):\n",
    "    print(\"Hello \" + a + \" \" + b + \"! Welcome to python.\")"
   ]
  }
 ],
 "metadata": {
  "kernelspec": {
   "display_name": "Python 3",
   "language": "python",
   "name": "python3"
  },
  "language_info": {
   "codemirror_mode": {
    "name": "ipython",
    "version": 3
   },
   "file_extension": ".py",
   "mimetype": "text/x-python",
   "name": "python",
   "nbconvert_exporter": "python",
   "pygments_lexer": "ipython3",
   "version": "3.7.1"
  }
 },
 "nbformat": 4,
 "nbformat_minor": 2
}
