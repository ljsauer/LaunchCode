{
 "cells": [
  {
   "cell_type": "code",
   "execution_count": 1,
   "metadata": {},
   "outputs": [],
   "source": [
    "# Week 3 pre-class homework"
   ]
  },
  {
   "cell_type": "code",
   "execution_count": 2,
   "metadata": {},
   "outputs": [],
   "source": [
    "# Part 1: Loops (https://www.datacamp.com/community/\n",
    "# tutorials/loops-python-tutorial)"
   ]
  },
  {
   "cell_type": "code",
   "execution_count": 3,
   "metadata": {},
   "outputs": [
    {
     "name": "stdout",
     "output_type": "stream",
     "text": [
      "Thank you\n",
      "Thank you\n",
      "Thank you\n"
     ]
    }
   ],
   "source": [
    "# While loops\n",
    "number = 2\n",
    "\n",
    "while number < 5:\n",
    "    print(\"Thank you\")\n",
    "    number += 1"
   ]
  },
  {
   "cell_type": "code",
   "execution_count": 4,
   "metadata": {},
   "outputs": [
    {
     "name": "stdout",
     "output_type": "stream",
     "text": [
      "The number 2 is even\n",
      "The number 3 is odd\n",
      "The number 4 is even\n"
     ]
    }
   ],
   "source": [
    "# Including conditionals\n",
    "number = 2\n",
    "\n",
    "while number < 5:\n",
    "    if number % 2 == 0:\n",
    "        print(\"The number \" + str(number) + \" is even\")\n",
    "    else: print(\"The number \" + str(number) + \" is odd\")\n",
    "    number += 1"
   ]
  },
  {
   "cell_type": "code",
   "execution_count": 2,
   "metadata": {},
   "outputs": [],
   "source": [
    "# Practice with a function that takes input (self-written)\n",
    "def collatz_sequence():\n",
    "    number = int(input(\"Give me a number: \"))\n",
    "    while number != 1:\n",
    "        if number % 2 == 0:\n",
    "            number = number // 2\n",
    "            print(number)\n",
    "        else:\n",
    "            number = 3 * number + 1\n",
    "            print(number)\n",
    "    return"
   ]
  },
  {
   "cell_type": "code",
   "execution_count": 6,
   "metadata": {},
   "outputs": [
    {
     "name": "stdin",
     "output_type": "stream",
     "text": [
      "Give me a number:  1\n"
     ]
    },
    {
     "name": "stdout",
     "output_type": "stream",
     "text": [
      "4\n",
      "2\n",
      "1\n"
     ]
    }
   ],
   "source": [
    "# Solution from tutorial\n",
    "def collatz(number):\n",
    "    # Is the mod of 2 equal to 0?\n",
    "    if number % 2 == 0:\n",
    "        print(number // 2)\n",
    "        return number // 2\n",
    "\n",
    "    # If the mod of 2 isn't equal to 0, print `3 * number + 1`\n",
    "    elif number % 2 == 1:\n",
    "        result = 3 * number + 1\n",
    "        print(result)\n",
    "        return result\n",
    "\n",
    "# Ask input from the user    \n",
    "n = input(\"Give me a number: \")\n",
    "\n",
    "# As long as `n` is not equal to `1`, run `collatz()`\n",
    "while n != 1:\n",
    "    n = collatz(int(n))"
   ]
  },
  {
   "cell_type": "code",
   "execution_count": 17,
   "metadata": {},
   "outputs": [
    {
     "name": "stdout",
     "output_type": "stream",
     "text": [
      "Current language:  R\n",
      "Current language:  Python\n",
      "Current language:  Scala\n",
      "Current language:  Java\n",
      "Current language:  Julia\n"
     ]
    }
   ],
   "source": [
    "# For loops\n",
    "languages = ['R', 'Python', 'Scala', 'Java', 'Julia']\n",
    "\n",
    "for index in (range(len(languages))):\n",
    "    print(\"Current language: \", languages[index])"
   ]
  },
  {
   "cell_type": "code",
   "execution_count": 1,
   "metadata": {},
   "outputs": [
    {
     "name": "stdout",
     "output_type": "stream",
     "text": [
      "0.5839134709999998\n"
     ]
    }
   ],
   "source": [
    "# For loops are faster than While loops:\n",
    "import timeit\n",
    "\n",
    "def for_loop():\n",
    "    for number in range(5):\n",
    "        sum = 3 + 4\n",
    "    return sum\n",
    "\n",
    "print(timeit.timeit(for_loop))"
   ]
  },
  {
   "cell_type": "code",
   "execution_count": 2,
   "metadata": {},
   "outputs": [
    {
     "data": {
      "text/plain": [
       "0.6174605680000003"
      ]
     },
     "execution_count": 2,
     "metadata": {},
     "output_type": "execute_result"
    }
   ],
   "source": [
    "def while_loop():\n",
    "    i = 0\n",
    "    while i < 5:\n",
    "        sum = 3+ 4\n",
    "        i += 1\n",
    "    return sum\n",
    "\n",
    "timeit.timeit(while_loop)"
   ]
  },
  {
   "cell_type": "code",
   "execution_count": 1,
   "metadata": {},
   "outputs": [
    {
     "name": "stdout",
     "output_type": "stream",
     "text": [
      "\n",
      "* \n",
      "* * \n",
      "* * * \n",
      "* * * * \n",
      "* * * * * \n",
      "* * * * \n",
      "* * * \n",
      "* * \n",
      "* \n"
     ]
    }
   ],
   "source": [
    "# Nested loops to print out a triangle\n",
    "n = 5\n",
    "\n",
    "for i in range(n):\n",
    "    for j in range(i):\n",
    "        print('* ', end=\"\")\n",
    "    print('')\n",
    "\n",
    "for i in range(n, 0, -1):\n",
    "    for j in range(i):\n",
    "        print('* ', end=\"\")\n",
    "    print('')"
   ]
  },
  {
   "cell_type": "code",
   "execution_count": null,
   "metadata": {},
   "outputs": [],
   "source": [
    "# When & how to use the Break and Continue keywords\n",
    "number = 2\n",
    "\n",
    "while number < 5:\n",
    "    while number % 2 == 0:\n",
    "        print(\"The number \" + str(number) + \" is even.\")\n",
    "        break\n",
    "    number += 1"
   ]
  },
  {
   "cell_type": "code",
   "execution_count": null,
   "metadata": {},
   "outputs": [],
   "source": [
    "# Breaking and Continuing while loops\n",
    "number = 2\n",
    "\n",
    "while number < 5:\n",
    "    while number % 2 == 0:\n",
    "        print(\"The number \" + str(number) + \" is even.\")\n",
    "        break\n",
    "    #continue  --- This causes the infinite loop to pick back up again\n",
    "    number += 1"
   ]
  },
  {
   "cell_type": "code",
   "execution_count": null,
   "metadata": {},
   "outputs": [],
   "source": []
  }
 ],
 "metadata": {
  "kernelspec": {
   "display_name": "Python 3",
   "language": "python",
   "name": "python3"
  },
  "language_info": {
   "codemirror_mode": {
    "name": "ipython",
    "version": 3
   },
   "file_extension": ".py",
   "mimetype": "text/x-python",
   "name": "python",
   "nbconvert_exporter": "python",
   "pygments_lexer": "ipython3",
   "version": "3.7.3"
  }
 },
 "nbformat": 4,
 "nbformat_minor": 2
}
