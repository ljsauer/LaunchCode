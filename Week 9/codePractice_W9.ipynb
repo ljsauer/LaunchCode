{
 "cells": [
  {
   "cell_type": "code",
   "execution_count": 1,
   "metadata": {},
   "outputs": [],
   "source": [
    "# HackerRank Linear Algebra Problems"
   ]
  },
  {
   "cell_type": "code",
   "execution_count": null,
   "metadata": {},
   "outputs": [],
   "source": [
    "\"\"\"\n",
    "https://www.hackerrank.com/challenges/linear-algebra-foundations-1/problem\n",
    "\n",
    "Given two matrices, add them together and print the resulting values on a new line each.\n",
    "\"\"\""
   ]
  },
  {
   "cell_type": "code",
   "execution_count": 14,
   "metadata": {},
   "outputs": [
    {
     "name": "stdout",
     "output_type": "stream",
     "text": [
      "5\n",
      "7\n",
      "9\n",
      "9\n",
      "11\n",
      "13\n",
      "5\n",
      "6\n",
      "1\n"
     ]
    }
   ],
   "source": [
    "import pandas as pd\n",
    "import numpy as np\n",
    "\n",
    "matrix_one = np.array([[1, 2, 3], [2, 3, 4], [1, 1, 1]])\n",
    "matrix_two = np.array([[4, 5, 6], [7, 8, 9], [4, 5, 7]])\n",
    "\n",
    "matrices_sum = matrix_one + matrix_two\n",
    "\n",
    "matsum_list = matrices_sum.tolist()\n",
    "\n",
    "for arr in matsum_list:\n",
    "    for num in arr:\n",
    "        print(num)"
   ]
  },
  {
   "cell_type": "code",
   "execution_count": 15,
   "metadata": {},
   "outputs": [
    {
     "name": "stdout",
     "output_type": "stream",
     "text": [
      "-3\n",
      "-3\n",
      "-3\n",
      "-5\n",
      "-5\n",
      "-5\n",
      "-3\n",
      "-4\n",
      "1\n"
     ]
    }
   ],
   "source": [
    "\"\"\"\n",
    "https://www.hackerrank.com/challenges/\n",
    "linear-algebra-foundations-1-matrix-subtraction/problem\n",
    "\n",
    "Now subtract the matrices:\n",
    "\"\"\"\n",
    "\n",
    "matrices_diff = matrix_one - matrix_two\n",
    "\n",
    "matdiff_list = matrices_diff.tolist()\n",
    "\n",
    "for arr in matdiff_list:\n",
    "    for num in arr:\n",
    "        print(num)"
   ]
  },
  {
   "cell_type": "code",
   "execution_count": 17,
   "metadata": {},
   "outputs": [
    {
     "name": "stdout",
     "output_type": "stream",
     "text": [
      "18\n",
      "21\n",
      "29\n",
      "34\n"
     ]
    }
   ],
   "source": [
    "\"\"\"\n",
    "https://www.hackerrank.com/challenges/\n",
    "linear-algebra-foundations-3-matrix-multiplication/problem\n",
    "\n",
    "Matrix multiplication (1/2): given two matrices, multiply them and print each resulting\n",
    "integer on a new line\n",
    "\"\"\"\n",
    "\n",
    "matrix_1 = np.array([[1, 2], [2, 3]])\n",
    "matrix_2 = np.array([[4, 5], [7, 8]])\n",
    "\n",
    "matrices_prod = np.matmul(matrix_1, matrix_2)\n",
    "\n",
    "matprod_list = matrices_prod.tolist()\n",
    "\n",
    "for arr in matprod_list:\n",
    "    for num in arr:\n",
    "        print(num)"
   ]
  },
  {
   "cell_type": "code",
   "execution_count": 36,
   "metadata": {},
   "outputs": [
    {
     "name": "stdout",
     "output_type": "stream",
     "text": [
      "30\n",
      "36\n",
      "24\n",
      "45\n",
      "54\n",
      "39\n",
      "15\n",
      "18\n",
      "15\n"
     ]
    }
   ],
   "source": [
    "\"\"\"\n",
    "https://www.hackerrank.com/challenges/\n",
    "linear-algebra-foundations-4-matrix-multiplication/problem\n",
    "\n",
    "Matrix multipliction (2/2): multiply a 3x3 matrix, print each integer on new line\n",
    "\"\"\"\n",
    "X = matrix_one\n",
    "Y = matrix_two\n",
    "\n",
    "matprod1_list = np.dot(X, Y)\n",
    "\n",
    "for arr in matprod1_list:\n",
    "    for num in arr:\n",
    "        print(num)"
   ]
  },
  {
   "cell_type": "code",
   "execution_count": null,
   "metadata": {},
   "outputs": [],
   "source": []
  }
 ],
 "metadata": {
  "kernelspec": {
   "display_name": "Python 3",
   "language": "python",
   "name": "python3"
  },
  "language_info": {
   "codemirror_mode": {
    "name": "ipython",
    "version": 3
   },
   "file_extension": ".py",
   "mimetype": "text/x-python",
   "name": "python",
   "nbconvert_exporter": "python",
   "pygments_lexer": "ipython3",
   "version": "3.7.1"
  }
 },
 "nbformat": 4,
 "nbformat_minor": 2
}
