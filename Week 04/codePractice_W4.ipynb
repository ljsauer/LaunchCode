{
 "cells": [
  {
   "cell_type": "code",
   "execution_count": 1,
   "metadata": {},
   "outputs": [
    {
     "name": "stdin",
     "output_type": "stream",
     "text": [
      "Enter a comma-separated list:  [1,2,3]\n"
     ]
    },
    {
     "name": "stdout",
     "output_type": "stream",
     "text": [
      "[3. 2. 1.]\n"
     ]
    }
   ],
   "source": [
    "\"\"\"\n",
    "https://www.hackerrank.com/challenges/np-arrays/problem\n",
    "\n",
    "* Given a comma-separated list of numbers, print a reversed NumPy array\n",
    "  with the element type 'float'\n",
    "\"\"\"\n",
    "import numpy as np\n",
    "\n",
    "def arrays(arr):\n",
    "    arr_rev = arr[::-1]\n",
    "    arr_new = np.array(arr_rev, float)\n",
    "    return arr_new\n",
    "\n",
    "arr = input(\"Enter a comma-separated list: \").strip('[]').split(',')\n",
    "result = arrays(arr)\n",
    "print(result)"
   ]
  },
  {
   "cell_type": "code",
   "execution_count": 17,
   "metadata": {},
   "outputs": [
    {
     "name": "stdin",
     "output_type": "stream",
     "text": [
      "Enter an array shape:  2 3 2\n"
     ]
    },
    {
     "name": "stdout",
     "output_type": "stream",
     "text": [
      "[[[0 0]\n",
      "  [0 0]\n",
      "  [0 0]]\n",
      "\n",
      " [[0 0]\n",
      "  [0 0]\n",
      "  [0 0]]]\n",
      "[[[1 1]\n",
      "  [1 1]\n",
      "  [1 1]]\n",
      "\n",
      " [[1 1]\n",
      "  [1 1]\n",
      "  [1 1]]]\n"
     ]
    }
   ],
   "source": [
    "\"\"\"\n",
    "https://www.hackerrank.com/challenges/np-zeros-and-ones/problem\n",
    "\n",
    "* Print an array of the given shape and integer type using the tools\n",
    "  'numpy.zeros' and 'numpy.ones'\n",
    "Input: a single line with space-separated integers\n",
    "Constraints:\n",
    " * 1 <= each integer <= 3\n",
    " * First, print the array using .zeros, then using .ones\n",
    "\"\"\"\n",
    "shape = input(\"Enter an array shape: \").split()\n",
    "shape = [int(char) for char in shape]\n",
    "\n",
    "zeros = np.zeros(shape, dtype=np.int)\n",
    "ones = np.ones(shape, dtype=np.int)\n",
    "                 \n",
    "print(zeros)\n",
    "print(ones)"
   ]
  },
  {
   "cell_type": "code",
   "execution_count": 18,
   "metadata": {},
   "outputs": [
    {
     "name": "stdin",
     "output_type": "stream",
     "text": [
      " 2 3\n",
      " 1 2 3\n",
      " 4 5 6\n",
      " 7 8 9\n",
      " 2 4 6\n"
     ]
    },
    {
     "name": "stdout",
     "output_type": "stream",
     "text": [
      "Addition \n",
      " [[ 8 10 12]\n",
      " [ 6  9 12]]\n",
      "Subtraction \n",
      " [[-6 -6 -6]\n",
      " [ 2  1  0]]\n",
      "Multiplication \n",
      " [[ 7 16 27]\n",
      " [ 8 20 36]]\n",
      "Division \n",
      " [[0 0 0]\n",
      " [2 1 1]]\n",
      "Remainder Division \n",
      " [[1 2 3]\n",
      " [0 1 0]]\n",
      "Exponentiation \n",
      " [[    1   256 19683]\n",
      " [   16   625 46656]]\n"
     ]
    }
   ],
   "source": [
    "\"\"\"\n",
    "https://www.hackerrank.com/challenges/np-array-mathematics/problem\n",
    "\n",
    "* Given two integer arrays, 'a' & 'b' of dimensions 'n' x 'm'\n",
    "* Input format:\n",
    "    * First line contains two space-separated ints, 'n' & 'm'\n",
    "        * i.e. the dimensions of arrays 'a' & 'b'\n",
    "    * The next 'n' lines contain 'm' space-separated ints of array 'a'\n",
    "        * i.e. the values in array 'a'\n",
    "    * The next 'n' lines contain 'm' space-separated ints of array 'b'\n",
    "        * i.e. the values in array 'b'\n",
    "* Perform six basic mathematical operations (+, -, *, /, %, **) with\n",
    "  the two arrays\n",
    "\"\"\"\n",
    "import numpy as np\n",
    "\n",
    "shapeStr = input().split()\n",
    "n, m = [int(i) for i in shapeStr]\n",
    "a = [[0] * m for i in range(n)]\n",
    "b = a.copy()\n",
    "\n",
    "for i in range(n):\n",
    "    a[i] = input().split()    \n",
    "for i in range(n):\n",
    "    b[i] = input().split()\n",
    "\n",
    "a = np.array(a, dtype=np.int)\n",
    "b = np.array(b, dtype=np.int)\n",
    "\n",
    "# Addition\n",
    "sum_arrays = a + b\n",
    "print(\"Addition \\n\", sum_arrays)\n",
    "\n",
    "# Subtraction\n",
    "diff_arrays = a - b\n",
    "print(\"Subtraction \\n\", diff_arrays)\n",
    "\n",
    "# Multiplication\n",
    "mult_arrays = a * b\n",
    "print(\"Multiplication \\n\", mult_arrays)\n",
    "\n",
    "# Division\n",
    "div_arrays = a // b\n",
    "print(\"Division \\n\", div_arrays)\n",
    "\n",
    "# Remainder Division\n",
    "rem_arrays = a % b\n",
    "print(\"Remainder Division \\n\", rem_arrays)\n",
    "\n",
    "# Exponentiation\n",
    "exp_arrays = a ** b\n",
    "print(\"Exponentiation \\n\", exp_arrays)"
   ]
  },
  {
   "cell_type": "code",
   "execution_count": 54,
   "metadata": {},
   "outputs": [
    {
     "name": "stdin",
     "output_type": "stream",
     "text": [
      "Enter 2 space-separated numbers:  3 4\n"
     ]
    },
    {
     "name": "stdout",
     "output_type": "stream",
     "text": [
      "[[8 6 4 6]\n",
      " [1 5 3 6]\n",
      " [9 4 5 2]]\n",
      "4\n"
     ]
    },
    {
     "name": "stdin",
     "output_type": "stream",
     "text": [
      "Enter array dimensions:  2 3\n",
      "Populate your array:  1 2 3\n",
      "Populate your array:  4 5 6\n"
     ]
    },
    {
     "name": "stdout",
     "output_type": "stream",
     "text": [
      "[[1 2 3]\n",
      " [4 5 6]]\n",
      "4\n"
     ]
    }
   ],
   "source": [
    "\"\"\"\n",
    "https://www.hackerrank.com/challenges/np-min-and-max/problem\n",
    "\n",
    "* Given a 2D array with dimensions 'n' x 'm'\n",
    "* Perform the min() function over axis 1 & find the max of the result\n",
    "* Input:\n",
    "    * the first line contains the space-separated values of 'n' & 'm'\n",
    "    * the next 'n' lines contain 'm' integers\n",
    "\"\"\"\n",
    "# Solution for array of randomly generated integers\n",
    "import numpy as np\n",
    "\n",
    "N, M = input(\"Enter 2 space-separated numbers: \").split()\n",
    "\n",
    "n = int(N)\n",
    "m = int(M)\n",
    "\n",
    "my_array = np.random.randint(10, size=(n, m))\n",
    "print(my_array)\n",
    "\n",
    "min_array = np.min(my_array, axis=1)\n",
    "\n",
    "max_of_min = np.max(min_array)\n",
    "print(max_of_min)\n",
    "\n",
    "# Solution for array of external input\n",
    "n, m = map(int, input(\"Enter array dimensions: \")\n",
    "           .strip(',').split())\n",
    "\n",
    "list_a = [list(map(int, input(\"Populate your array: \")\n",
    "                   .strip(',').split())) for i in range(n)]\n",
    "my_array2 = np.array(list_a)\n",
    "print(my_array2)\n",
    "\n",
    "print(np.max(np.min(my_array2, axis=1)))"
   ]
  },
  {
   "cell_type": "code",
   "execution_count": 4,
   "metadata": {},
   "outputs": [
    {
     "name": "stdin",
     "output_type": "stream",
     "text": [
      " 1.1 2.3 3.6 4.2 5.0 6.6 7.1 8.5\n"
     ]
    },
    {
     "name": "stdout",
     "output_type": "stream",
     "text": [
      "[[1. 2. 3. 4. 5. 6. 7. 8.]]\n",
      "[[2. 3. 4. 5. 5. 7. 8. 9.]]\n",
      "[[1. 2. 4. 4. 5. 7. 7. 8.]]\n"
     ]
    }
   ],
   "source": [
    "\"\"\"\n",
    "https://www.hackerrank.com/challenges/floor-ceil-and-rint/problem\n",
    "\n",
    "* Given a 1D array, A: print the floor, ceil, and rint of all the\n",
    "    elements of A\n",
    "* Print each output on a new line\n",
    "\"\"\"\n",
    "import numpy as np\n",
    "my_array = [list(map(float, input().split()))]\n",
    "\n",
    "print(np.floor(my_array))\n",
    "print(np.ceil(my_array))\n",
    "print(np.rint(my_array))"
   ]
  },
  {
   "cell_type": "code",
   "execution_count": 22,
   "metadata": {},
   "outputs": [
    {
     "name": "stdout",
     "output_type": "stream",
     "text": [
      "[0, 0, 1, 3, 4, 2, 2, 6, 2]\n",
      "[[0 0 1]\n",
      " [3 4 2]\n",
      " [2 6 2]]\n"
     ]
    }
   ],
   "source": [
    "\"\"\"\n",
    "https://www.hackerrank.com/challenges/np-shape-reshape/problem\n",
    "\n",
    "* Given a space-separated list of 9 integers, convert the list\n",
    "    into a 3 x 3 array and print the result\n",
    "\"\"\"\n",
    "import numpy as np\n",
    "import random\n",
    "\n",
    "my_list = [random.randint(0, 9) for i in range(9)]\n",
    "my_array = np.array(my_list)\n",
    "print(my_list)\n",
    "\n",
    "reshape_arr = np.reshape(my_array, (3, 3))\n",
    "print(reshape_arr)"
   ]
  },
  {
   "cell_type": "code",
   "execution_count": null,
   "metadata": {},
   "outputs": [],
   "source": []
  }
 ],
 "metadata": {
  "kernelspec": {
   "display_name": "Python 3",
   "language": "python",
   "name": "python3"
  },
  "language_info": {
   "codemirror_mode": {
    "name": "ipython",
    "version": 3
   },
   "file_extension": ".py",
   "mimetype": "text/x-python",
   "name": "python",
   "nbconvert_exporter": "python",
   "pygments_lexer": "ipython3",
   "version": "3.7.3"
  }
 },
 "nbformat": 4,
 "nbformat_minor": 4
}
