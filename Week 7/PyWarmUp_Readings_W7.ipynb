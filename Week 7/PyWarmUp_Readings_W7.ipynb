{
 "cells": [
  {
   "cell_type": "code",
   "execution_count": null,
   "metadata": {},
   "outputs": [],
   "source": [
    "\"\"\"\n",
    "https://github.com/rlowd/python-bigdata/blob/master/intro2stats/\n",
    "notebooks/2.%20Warm-up.py3.ipynb\n",
    "\n",
    "Statistics in Python Warm-Up\n",
    "\"\"\""
   ]
  },
  {
   "cell_type": "code",
   "execution_count": 1,
   "metadata": {},
   "outputs": [
    {
     "name": "stdout",
     "output_type": "stream",
     "text": [
      "Data of the Experiment:  [0 1 1 1 0 1 0 1 0 1 1 0 0 0 0 1 1 1 1 1 1 1 0 1 1 1 1 1 0 0]\n",
      "Number of Heads in Experiment:  19\n"
     ]
    }
   ],
   "source": [
    "# What is the probability of getting 24 heads in a coin toss of 30 tosses?\n",
    "\n",
    "import numpy as np\n",
    "\n",
    "total_tosses = 30\n",
    "num_heads = 24\n",
    "prob_heads = 0.5  # If the prob is > than this, we'll conclude bias in the coin\n",
    "\n",
    "# 0 is Tails, 1 is Heads\n",
    "experiment = np.random.randint(0, 2, total_tosses)\n",
    "print(\"Data of the Experiment: \", experiment)\n",
    "\n",
    "# Find the number of heads\n",
    "head_count = experiment[experiment==1].shape[0]\n",
    "print(\"Number of Heads in Experiment: \", head_count)"
   ]
  },
  {
   "cell_type": "code",
   "execution_count": 4,
   "metadata": {},
   "outputs": [],
   "source": [
    "# Repeat the above experiment 100 times for greater validity\n",
    "\n",
    "def coin_toss_experiment(times_to_repeat):\n",
    "    head_count = np.empty([times_to_repeat, 1], dtype=int)\n",
    "    for times in np.arange(times_to_repeat):\n",
    "        experiment = np.random.randint(0, 2, total_tosses)\n",
    "        head_count[times] = experiment[experiment==1].shape[0]\n",
    "    return head_count"
   ]
  },
  {
   "cell_type": "code",
   "execution_count": 5,
   "metadata": {},
   "outputs": [],
   "source": [
    "head_count = coin_toss_experiment(100)"
   ]
  },
  {
   "cell_type": "code",
   "execution_count": 6,
   "metadata": {},
   "outputs": [
    {
     "data": {
      "text/plain": [
       "array([[18],\n",
       "       [13],\n",
       "       [12],\n",
       "       [15],\n",
       "       [12],\n",
       "       [12],\n",
       "       [12],\n",
       "       [16],\n",
       "       [18],\n",
       "       [15]])"
      ]
     },
     "execution_count": 6,
     "metadata": {},
     "output_type": "execute_result"
    }
   ],
   "source": [
    "head_count[:10]"
   ]
  },
  {
   "cell_type": "code",
   "execution_count": 7,
   "metadata": {},
   "outputs": [
    {
     "name": "stdout",
     "output_type": "stream",
     "text": [
      "Dimensions:  (100, 1) \n",
      " Type of object:  <class 'numpy.ndarray'>\n"
     ]
    }
   ],
   "source": [
    "print(\"Dimensions: \", head_count.shape, \"\\n\", \"Type of object: \", type(head_count))"
   ]
  },
  {
   "cell_type": "code",
   "execution_count": 8,
   "metadata": {},
   "outputs": [],
   "source": [
    "# Now plot the distribution of head_count\n",
    "\n",
    "import matplotlib.pyplot as plt\n",
    "%matplotlib inline\n",
    "import seaborn as sns\n",
    "sns.set(color_codes = True)"
   ]
  },
  {
   "cell_type": "code",
   "execution_count": 12,
   "metadata": {},
   "outputs": [
    {
     "data": {
      "text/plain": [
       "<matplotlib.axes._subplots.AxesSubplot at 0x1fa164ca5c0>"
      ]
     },
     "execution_count": 12,
     "metadata": {},
     "output_type": "execute_result"
    },
    {
     "data": {
      "image/png": "[encoded data removed]",
      "text/plain": [
       "<Figure size 432x288 with 1 Axes>"
      ]
     },
     "metadata": {
      "needs_background": "light"
     },
     "output_type": "display_data"
    }
   ],
   "source": [
    "sns.distplot(head_count, kde = False)"
   ]
  },
  {
   "cell_type": "code",
   "execution_count": 17,
   "metadata": {},
   "outputs": [
    {
     "name": "stdout",
     "output_type": "stream",
     "text": [
      "Number of times the experiment returned 24 Heads or more:  0\n",
      "Percentage of times with 24 or more Heads:  0.0\n"
     ]
    }
   ],
   "source": [
    "print(\"Number of times the experiment returned 24 Heads or more: \", head_count\n",
    "      [head_count >= 24].shape[0])\n",
    "print(\"Percentage of times with 24 or more Heads: \", head_count[head_count>=24].\n",
    "      shape[0] / float(head_count.shape[0])*100)"
   ]
  },
  {
   "cell_type": "code",
   "execution_count": 18,
   "metadata": {},
   "outputs": [],
   "source": [
    "exp2 = coin_toss_experiment(100000)"
   ]
  },
  {
   "cell_type": "code",
   "execution_count": null,
   "metadata": {},
   "outputs": [],
   "source": []
  }
 ],
 "metadata": {
  "kernelspec": {
   "display_name": "Python 3",
   "language": "python",
   "name": "python3"
  },
  "language_info": {
   "codemirror_mode": {
    "name": "ipython",
    "version": 3
   },
   "file_extension": ".py",
   "mimetype": "text/x-python",
   "name": "python",
   "nbconvert_exporter": "python",
   "pygments_lexer": "ipython3",
   "version": "3.7.1"
  }
 },
 "nbformat": 4,
 "nbformat_minor": 2
}
