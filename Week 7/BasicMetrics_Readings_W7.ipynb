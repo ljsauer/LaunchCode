{
 "cells": [
  {
   "cell_type": "code",
   "execution_count": null,
   "metadata": {},
   "outputs": [],
   "source": [
    "\"\"\"\n",
    "https://github.com/rlowd/python-bigdata/blob/master/intro2stats/\n",
    "notebooks/4.%20Basic%20Metrics.py3.ipynb\n",
    "\n",
    "Basic Metrics with Pandas\n",
    "\"\"\""
   ]
  },
  {
   "cell_type": "code",
   "execution_count": 2,
   "metadata": {},
   "outputs": [],
   "source": [
    "import numpy as np\n",
    "import pandas as pd\n",
    "from datetime import datetime as dt\n",
    "from scipy import stats"
   ]
  },
  {
   "cell_type": "code",
   "execution_count": 3,
   "metadata": {},
   "outputs": [],
   "source": [
    "# Working with 3 datasets:\n",
    "\n",
    "# 1: Weed price by date/State\n",
    "prices_pd = pd.read_csv(\"https://raw.githubusercontent.com/rlowd/python-bigdata/master/intro2stats/data/Weed_Price.csv\", parse_dates=[-1])\n",
    "\n",
    "# 2: Demographics of State\n",
    "demography_pd = pd.read_csv(\"https://raw.githubusercontent.com/rlowd/python-bigdata/master/intro2stats/data/Demographics_State.csv\")\n",
    "\n",
    "# 3: Population of State\n",
    "population_pd = pd.read_csv(\"https://raw.githubusercontent.com/rlowd/python-bigdata/master/intro2stats/data/Population_State.csv\")"
   ]
  },
  {
   "cell_type": "code",
   "execution_count": 4,
   "metadata": {},
   "outputs": [
    {
     "name": "stdout",
     "output_type": "stream",
     "text": [
      "        State   HighQ  HighQN    MedQ  MedQN    LowQ  LowQN       date\n",
      "0     Alabama  339.06    1042  198.64    933  149.49    123 2014-01-01\n",
      "1      Alaska  288.75     252  260.60    297  388.58     26 2014-01-01\n",
      "2     Arizona  303.31    1941  209.35   1625  189.45    222 2014-01-01\n",
      "3    Arkansas  361.85     576  185.62    544  125.87    112 2014-01-01\n",
      "4  California  248.78   12096  193.56  12812  192.92    778 2014-01-01\n",
      "       region  total_population  percent_white  percent_black  percent_asian  \\\n",
      "0     alabama           4799277             67             26              1   \n",
      "1      alaska            720316             63              3              5   \n",
      "2     arizona           6479703             57              4              3   \n",
      "3    arkansas           2933369             74             15              1   \n",
      "4  california          37659181             40              6             13   \n",
      "\n",
      "   percent_hispanic  per_capita_income  median_rent  median_age  \n",
      "0                 4              23680          501        38.1  \n",
      "1                 6              32651          978        33.6  \n",
      "2                30              25358          747        36.3  \n",
      "3                 7              22170          480        37.5  \n",
      "4                38              29527         1119        35.4  \n",
      "       region     value\n",
      "0     alabama   4777326\n",
      "1      alaska    711139\n",
      "2     arizona   6410979\n",
      "3    arkansas   2916372\n",
      "4  california  37325068\n"
     ]
    }
   ],
   "source": [
    "print(prices_pd.head())\n",
    "print(demography_pd.head())\n",
    "print(population_pd.head())"
   ]
  },
  {
   "cell_type": "code",
   "execution_count": 55,
   "metadata": {},
   "outputs": [],
   "source": [
    "# Sort the data on state and date, then fill in missing values\n",
    "\n",
    "prices_pd.sort_values(by=['State', 'date'], inplace=True)\n",
    "prices_pd.fillna(method='ffill', inplace=True)"
   ]
  },
  {
   "cell_type": "code",
   "execution_count": 56,
   "metadata": {},
   "outputs": [
    {
     "data": {
      "text/html": [
       "<div>\n",
       "<style scoped>\n",
       "    .dataframe tbody tr th:only-of-type {\n",
       "        vertical-align: middle;\n",
       "    }\n",
       "\n",
       "    .dataframe tbody tr th {\n",
       "        vertical-align: top;\n",
       "    }\n",
       "\n",
       "    .dataframe thead th {\n",
       "        text-align: right;\n",
       "    }\n",
       "</style>\n",
       "<table border=\"1\" class=\"dataframe\">\n",
       "  <thead>\n",
       "    <tr style=\"text-align: right;\">\n",
       "      <th></th>\n",
       "      <th>State</th>\n",
       "      <th>HighQ</th>\n",
       "      <th>HighQN</th>\n",
       "      <th>MedQ</th>\n",
       "      <th>MedQN</th>\n",
       "      <th>LowQ</th>\n",
       "      <th>LowQN</th>\n",
       "      <th>date</th>\n",
       "    </tr>\n",
       "  </thead>\n",
       "  <tbody>\n",
       "    <tr>\n",
       "      <th>20098</th>\n",
       "      <td>California</td>\n",
       "      <td>248.77</td>\n",
       "      <td>12021</td>\n",
       "      <td>193.44</td>\n",
       "      <td>12724</td>\n",
       "      <td>193.88</td>\n",
       "      <td>770</td>\n",
       "      <td>2013-12-27</td>\n",
       "    </tr>\n",
       "    <tr>\n",
       "      <th>20863</th>\n",
       "      <td>California</td>\n",
       "      <td>248.74</td>\n",
       "      <td>12025</td>\n",
       "      <td>193.44</td>\n",
       "      <td>12728</td>\n",
       "      <td>193.88</td>\n",
       "      <td>770</td>\n",
       "      <td>2013-12-28</td>\n",
       "    </tr>\n",
       "    <tr>\n",
       "      <th>21577</th>\n",
       "      <td>California</td>\n",
       "      <td>248.76</td>\n",
       "      <td>12047</td>\n",
       "      <td>193.55</td>\n",
       "      <td>12760</td>\n",
       "      <td>193.60</td>\n",
       "      <td>772</td>\n",
       "      <td>2013-12-29</td>\n",
       "    </tr>\n",
       "    <tr>\n",
       "      <th>22291</th>\n",
       "      <td>California</td>\n",
       "      <td>248.82</td>\n",
       "      <td>12065</td>\n",
       "      <td>193.54</td>\n",
       "      <td>12779</td>\n",
       "      <td>193.80</td>\n",
       "      <td>773</td>\n",
       "      <td>2013-12-30</td>\n",
       "    </tr>\n",
       "    <tr>\n",
       "      <th>22801</th>\n",
       "      <td>California</td>\n",
       "      <td>248.76</td>\n",
       "      <td>12082</td>\n",
       "      <td>193.54</td>\n",
       "      <td>12792</td>\n",
       "      <td>193.80</td>\n",
       "      <td>773</td>\n",
       "      <td>2013-12-31</td>\n",
       "    </tr>\n",
       "  </tbody>\n",
       "</table>\n",
       "</div>"
      ],
      "text/plain": [
       "            State   HighQ  HighQN    MedQ  MedQN    LowQ  LowQN       date\n",
       "20098  California  248.77   12021  193.44  12724  193.88    770 2013-12-27\n",
       "20863  California  248.74   12025  193.44  12728  193.88    770 2013-12-28\n",
       "21577  California  248.76   12047  193.55  12760  193.60    772 2013-12-29\n",
       "22291  California  248.82   12065  193.54  12779  193.80    773 2013-12-30\n",
       "22801  California  248.76   12082  193.54  12792  193.80    773 2013-12-31"
      ]
     },
     "execution_count": 56,
     "metadata": {},
     "output_type": "execute_result"
    }
   ],
   "source": [
    "# Find the Mean\n",
    "\n",
    "california_pd = prices_pd[prices_pd.State == 'California'].copy(True)\n",
    "california_pd.head()"
   ]
  },
  {
   "cell_type": "code",
   "execution_count": 57,
   "metadata": {},
   "outputs": [],
   "source": [
    "ca_sum = california_pd['HighQ'].sum()"
   ]
  },
  {
   "cell_type": "code",
   "execution_count": 58,
   "metadata": {},
   "outputs": [],
   "source": [
    "ca_count = california_pd['HighQ'].count()"
   ]
  },
  {
   "cell_type": "code",
   "execution_count": 59,
   "metadata": {},
   "outputs": [
    {
     "name": "stdout",
     "output_type": "stream",
     "text": [
      "Mean weed price in CA is:  245.37612472160356\n"
     ]
    }
   ],
   "source": [
    "ca_mean = ca_sum / ca_count\n",
    "print(\"Mean weed price in CA is: \", ca_mean)"
   ]
  },
  {
   "cell_type": "code",
   "execution_count": 70,
   "metadata": {},
   "outputs": [],
   "source": [
    "# Find the CA mean for 2013, 2014, and 2015 individually:\n",
    "\n",
    "def ca_mean_by_year(year):\n",
    "    df = california_pd[california_pd['date'].dt.year == year]\n",
    "    df_sum = df['HighQ'].sum()\n",
    "    df_count = df['HighQ'].count()\n",
    "    df_mean = df_sum / df_count\n",
    "    return df_mean"
   ]
  },
  {
   "cell_type": "code",
   "execution_count": 71,
   "metadata": {},
   "outputs": [
    {
     "data": {
      "text/plain": [
       "248.76999999999998"
      ]
     },
     "execution_count": 71,
     "metadata": {},
     "output_type": "execute_result"
    }
   ],
   "source": [
    "ca_mean_by_year(2013)"
   ]
  },
  {
   "cell_type": "code",
   "execution_count": 72,
   "metadata": {},
   "outputs": [
    {
     "data": {
      "text/plain": [
       "245.89423076923077"
      ]
     },
     "execution_count": 72,
     "metadata": {},
     "output_type": "execute_result"
    }
   ],
   "source": [
    "ca_mean_by_year(2014)"
   ]
  },
  {
   "cell_type": "code",
   "execution_count": 73,
   "metadata": {},
   "outputs": [
    {
     "data": {
      "text/plain": [
       "242.806625"
      ]
     },
     "execution_count": 73,
     "metadata": {},
     "output_type": "execute_result"
    }
   ],
   "source": [
    "ca_mean_by_year(2015)"
   ]
  },
  {
   "cell_type": "code",
   "execution_count": null,
   "metadata": {},
   "outputs": [],
   "source": []
  }
 ],
 "metadata": {
  "kernelspec": {
   "display_name": "Python 3",
   "language": "python",
   "name": "python3"
  },
  "language_info": {
   "codemirror_mode": {
    "name": "ipython",
    "version": 3
   },
   "file_extension": ".py",
   "mimetype": "text/x-python",
   "name": "python",
   "nbconvert_exporter": "python",
   "pygments_lexer": "ipython3",
   "version": "3.7.1"
  }
 },
 "nbformat": 4,
 "nbformat_minor": 2
}
